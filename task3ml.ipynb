{
  "nbformat": 4,
  "nbformat_minor": 0,
  "metadata": {
    "colab": {
      "name": "task3ml.ipynb",
      "provenance": [],
      "collapsed_sections": [
        "o16WlLxMVYmk"
      ]
    },
    "kernelspec": {
      "name": "python3",
      "display_name": "Python 3"
    },
    "language_info": {
      "name": "python"
    }
  },
  "cells": [
    {
      "cell_type": "markdown",
      "source": [
        " **This file includes the experiments carried out for the task 3 section of the ML assignment**"
      ],
      "metadata": {
        "id": "rOD-brfnW0N6"
      }
    },
    {
      "cell_type": "code",
      "execution_count": null,
      "metadata": {
        "colab": {
          "base_uri": "https://localhost:8080/"
        },
        "id": "LgUt4a7WwKdg",
        "outputId": "48310553-4976-4691-f847-933b95857671"
      },
      "outputs": [
        {
          "output_type": "stream",
          "name": "stdout",
          "text": [
            "Collecting aif360[LFR]\n",
            "  Downloading aif360-0.4.0-py3-none-any.whl (175 kB)\n",
            "\u001b[?25l\r\u001b[K     |█▉                              | 10 kB 17.4 MB/s eta 0:00:01\r\u001b[K     |███▊                            | 20 kB 21.2 MB/s eta 0:00:01\r\u001b[K     |█████▋                          | 30 kB 15.9 MB/s eta 0:00:01\r\u001b[K     |███████▌                        | 40 kB 11.6 MB/s eta 0:00:01\r\u001b[K     |█████████▍                      | 51 kB 6.3 MB/s eta 0:00:01\r\u001b[K     |███████████▎                    | 61 kB 7.4 MB/s eta 0:00:01\r\u001b[K     |█████████████                   | 71 kB 7.4 MB/s eta 0:00:01\r\u001b[K     |███████████████                 | 81 kB 7.2 MB/s eta 0:00:01\r\u001b[K     |████████████████▉               | 92 kB 8.0 MB/s eta 0:00:01\r\u001b[K     |██████████████████▊             | 102 kB 7.1 MB/s eta 0:00:01\r\u001b[K     |████████████████████▋           | 112 kB 7.1 MB/s eta 0:00:01\r\u001b[K     |██████████████████████▌         | 122 kB 7.1 MB/s eta 0:00:01\r\u001b[K     |████████████████████████▎       | 133 kB 7.1 MB/s eta 0:00:01\r\u001b[K     |██████████████████████████▏     | 143 kB 7.1 MB/s eta 0:00:01\r\u001b[K     |████████████████████████████    | 153 kB 7.1 MB/s eta 0:00:01\r\u001b[K     |██████████████████████████████  | 163 kB 7.1 MB/s eta 0:00:01\r\u001b[K     |███████████████████████████████▉| 174 kB 7.1 MB/s eta 0:00:01\r\u001b[K     |████████████████████████████████| 175 kB 7.1 MB/s \n",
            "\u001b[33mWARNING: aif360 0.4.0 does not provide the extra 'lfr'\u001b[0m\n",
            "\u001b[?25hRequirement already satisfied: matplotlib in /usr/local/lib/python3.7/dist-packages (from aif360[LFR]) (3.2.2)\n",
            "Requirement already satisfied: scipy<1.6.0,>=1.2.0 in /usr/local/lib/python3.7/dist-packages (from aif360[LFR]) (1.4.1)\n",
            "Collecting tempeh\n",
            "  Downloading tempeh-0.1.12-py3-none-any.whl (39 kB)\n",
            "Requirement already satisfied: numpy>=1.16 in /usr/local/lib/python3.7/dist-packages (from aif360[LFR]) (1.21.6)\n",
            "Requirement already satisfied: pandas>=0.24.0 in /usr/local/lib/python3.7/dist-packages (from aif360[LFR]) (1.3.5)\n",
            "Requirement already satisfied: scikit-learn>=0.22.1 in /usr/local/lib/python3.7/dist-packages (from aif360[LFR]) (1.0.2)\n",
            "Requirement already satisfied: pytz>=2017.3 in /usr/local/lib/python3.7/dist-packages (from pandas>=0.24.0->aif360[LFR]) (2022.1)\n",
            "Requirement already satisfied: python-dateutil>=2.7.3 in /usr/local/lib/python3.7/dist-packages (from pandas>=0.24.0->aif360[LFR]) (2.8.2)\n",
            "Requirement already satisfied: six>=1.5 in /usr/local/lib/python3.7/dist-packages (from python-dateutil>=2.7.3->pandas>=0.24.0->aif360[LFR]) (1.15.0)\n",
            "Requirement already satisfied: threadpoolctl>=2.0.0 in /usr/local/lib/python3.7/dist-packages (from scikit-learn>=0.22.1->aif360[LFR]) (3.1.0)\n",
            "Requirement already satisfied: joblib>=0.11 in /usr/local/lib/python3.7/dist-packages (from scikit-learn>=0.22.1->aif360[LFR]) (1.1.0)\n",
            "Requirement already satisfied: kiwisolver>=1.0.1 in /usr/local/lib/python3.7/dist-packages (from matplotlib->aif360[LFR]) (1.4.2)\n",
            "Requirement already satisfied: cycler>=0.10 in /usr/local/lib/python3.7/dist-packages (from matplotlib->aif360[LFR]) (0.11.0)\n",
            "Requirement already satisfied: pyparsing!=2.0.4,!=2.1.2,!=2.1.6,>=2.0.1 in /usr/local/lib/python3.7/dist-packages (from matplotlib->aif360[LFR]) (3.0.8)\n",
            "Requirement already satisfied: typing-extensions in /usr/local/lib/python3.7/dist-packages (from kiwisolver>=1.0.1->matplotlib->aif360[LFR]) (4.2.0)\n",
            "Collecting shap\n",
            "  Downloading shap-0.40.0-cp37-cp37m-manylinux2010_x86_64.whl (564 kB)\n",
            "\u001b[K     |████████████████████████████████| 564 kB 23.2 MB/s \n",
            "\u001b[?25hCollecting memory-profiler\n",
            "  Downloading memory_profiler-0.60.0.tar.gz (38 kB)\n",
            "Requirement already satisfied: pytest in /usr/local/lib/python3.7/dist-packages (from tempeh->aif360[LFR]) (3.6.4)\n",
            "Requirement already satisfied: requests in /usr/local/lib/python3.7/dist-packages (from tempeh->aif360[LFR]) (2.23.0)\n",
            "Requirement already satisfied: psutil in /usr/local/lib/python3.7/dist-packages (from memory-profiler->tempeh->aif360[LFR]) (5.4.8)\n",
            "Requirement already satisfied: py>=1.5.0 in /usr/local/lib/python3.7/dist-packages (from pytest->tempeh->aif360[LFR]) (1.11.0)\n",
            "Requirement already satisfied: setuptools in /usr/local/lib/python3.7/dist-packages (from pytest->tempeh->aif360[LFR]) (57.4.0)\n",
            "Requirement already satisfied: atomicwrites>=1.0 in /usr/local/lib/python3.7/dist-packages (from pytest->tempeh->aif360[LFR]) (1.4.0)\n",
            "Requirement already satisfied: more-itertools>=4.0.0 in /usr/local/lib/python3.7/dist-packages (from pytest->tempeh->aif360[LFR]) (8.12.0)\n",
            "Requirement already satisfied: attrs>=17.4.0 in /usr/local/lib/python3.7/dist-packages (from pytest->tempeh->aif360[LFR]) (21.4.0)\n",
            "Requirement already satisfied: pluggy<0.8,>=0.5 in /usr/local/lib/python3.7/dist-packages (from pytest->tempeh->aif360[LFR]) (0.7.1)\n",
            "Requirement already satisfied: chardet<4,>=3.0.2 in /usr/local/lib/python3.7/dist-packages (from requests->tempeh->aif360[LFR]) (3.0.4)\n",
            "Requirement already satisfied: urllib3!=1.25.0,!=1.25.1,<1.26,>=1.21.1 in /usr/local/lib/python3.7/dist-packages (from requests->tempeh->aif360[LFR]) (1.24.3)\n",
            "Requirement already satisfied: idna<3,>=2.5 in /usr/local/lib/python3.7/dist-packages (from requests->tempeh->aif360[LFR]) (2.10)\n",
            "Requirement already satisfied: certifi>=2017.4.17 in /usr/local/lib/python3.7/dist-packages (from requests->tempeh->aif360[LFR]) (2021.10.8)\n",
            "Requirement already satisfied: tqdm>4.25.0 in /usr/local/lib/python3.7/dist-packages (from shap->tempeh->aif360[LFR]) (4.64.0)\n",
            "Requirement already satisfied: packaging>20.9 in /usr/local/lib/python3.7/dist-packages (from shap->tempeh->aif360[LFR]) (21.3)\n",
            "Requirement already satisfied: numba in /usr/local/lib/python3.7/dist-packages (from shap->tempeh->aif360[LFR]) (0.51.2)\n",
            "Requirement already satisfied: cloudpickle in /usr/local/lib/python3.7/dist-packages (from shap->tempeh->aif360[LFR]) (1.3.0)\n",
            "Collecting slicer==0.0.7\n",
            "  Downloading slicer-0.0.7-py3-none-any.whl (14 kB)\n",
            "Requirement already satisfied: llvmlite<0.35,>=0.34.0.dev0 in /usr/local/lib/python3.7/dist-packages (from numba->shap->tempeh->aif360[LFR]) (0.34.0)\n",
            "Building wheels for collected packages: memory-profiler\n",
            "  Building wheel for memory-profiler (setup.py) ... \u001b[?25l\u001b[?25hdone\n",
            "  Created wheel for memory-profiler: filename=memory_profiler-0.60.0-py3-none-any.whl size=31284 sha256=8f3d62a0e11155bf478c6dc1902eda8cb52b3bcd0d82277302ad613c2e1111c5\n",
            "  Stored in directory: /root/.cache/pip/wheels/67/2b/fb/326e30d638c538e69a5eb0aa47f4223d979f502bbdb403950f\n",
            "Successfully built memory-profiler\n",
            "Installing collected packages: slicer, shap, memory-profiler, tempeh, aif360\n",
            "Successfully installed aif360-0.4.0 memory-profiler-0.60.0 shap-0.40.0 slicer-0.0.7 tempeh-0.1.12\n"
          ]
        }
      ],
      "source": [
        "!pip install 'aif360[LFR]'"
      ]
    },
    {
      "cell_type": "code",
      "source": [
        "cd /usr/local/lib/python3.7/dist-packages/aif360/data/raw/adult"
      ],
      "metadata": {
        "colab": {
          "base_uri": "https://localhost:8080/"
        },
        "id": "_6eGzXJqwZsM",
        "outputId": "856a52f2-aefa-48f3-f440-0937290341bc"
      },
      "execution_count": null,
      "outputs": [
        {
          "output_type": "stream",
          "name": "stdout",
          "text": [
            "/usr/local/lib/python3.7/dist-packages/aif360/data/raw/adult\n"
          ]
        }
      ]
    },
    {
      "cell_type": "code",
      "source": [
        "!wget https://archive.ics.uci.edu/ml/machine-learning-databases/adult/adult.data\n",
        "!wget https://archive.ics.uci.edu/ml/machine-learning-databases/adult/adult.names\n",
        "!wget https://archive.ics.uci.edu/ml/machine-learning-databases/adult/adult.test"
      ],
      "metadata": {
        "colab": {
          "base_uri": "https://localhost:8080/"
        },
        "id": "Jz-JtAyYwZxV",
        "outputId": "4ab2f3cb-95fe-4ef8-da6a-12b76d59b298"
      },
      "execution_count": null,
      "outputs": [
        {
          "output_type": "stream",
          "name": "stdout",
          "text": [
            "--2022-05-12 12:56:35--  https://archive.ics.uci.edu/ml/machine-learning-databases/adult/adult.data\n",
            "Resolving archive.ics.uci.edu (archive.ics.uci.edu)... 128.195.10.252\n",
            "Connecting to archive.ics.uci.edu (archive.ics.uci.edu)|128.195.10.252|:443... connected.\n",
            "HTTP request sent, awaiting response... 200 OK\n",
            "Length: 3974305 (3.8M) [application/x-httpd-php]\n",
            "Saving to: ‘adult.data’\n",
            "\n",
            "adult.data          100%[===================>]   3.79M  16.5MB/s    in 0.2s    \n",
            "\n",
            "2022-05-12 12:56:35 (16.5 MB/s) - ‘adult.data’ saved [3974305/3974305]\n",
            "\n",
            "--2022-05-12 12:56:35--  https://archive.ics.uci.edu/ml/machine-learning-databases/adult/adult.names\n",
            "Resolving archive.ics.uci.edu (archive.ics.uci.edu)... 128.195.10.252\n",
            "Connecting to archive.ics.uci.edu (archive.ics.uci.edu)|128.195.10.252|:443... connected.\n",
            "HTTP request sent, awaiting response... 200 OK\n",
            "Length: 5229 (5.1K) [application/x-httpd-php]\n",
            "Saving to: ‘adult.names’\n",
            "\n",
            "adult.names         100%[===================>]   5.11K  --.-KB/s    in 0s      \n",
            "\n",
            "2022-05-12 12:56:35 (89.6 MB/s) - ‘adult.names’ saved [5229/5229]\n",
            "\n",
            "--2022-05-12 12:56:36--  https://archive.ics.uci.edu/ml/machine-learning-databases/adult/adult.test\n",
            "Resolving archive.ics.uci.edu (archive.ics.uci.edu)... 128.195.10.252\n",
            "Connecting to archive.ics.uci.edu (archive.ics.uci.edu)|128.195.10.252|:443... connected.\n",
            "HTTP request sent, awaiting response... 200 OK\n",
            "Length: 2003153 (1.9M) [application/x-httpd-php]\n",
            "Saving to: ‘adult.test’\n",
            "\n",
            "adult.test          100%[===================>]   1.91M  9.66MB/s    in 0.2s    \n",
            "\n",
            "2022-05-12 12:56:36 (9.66 MB/s) - ‘adult.test’ saved [2003153/2003153]\n",
            "\n"
          ]
        }
      ]
    },
    {
      "cell_type": "code",
      "source": [
        "# Import the AIF360 library and set the random seed.\n",
        "import numpy as np\n",
        "import pandas as pd\n",
        "from aif360.datasets import AdultDataset\n",
        "from aif360.algorithms.preprocessing.optim_preproc_helpers.data_preproc_functions import load_preproc_data_adult\n",
        "from aif360.algorithms.preprocessing.optim_preproc_helpers.data_preproc_functions import load_preproc_data_german\n",
        "from aif360.metrics import ClassificationMetric, BinaryLabelDatasetMetric\n",
        "from aif360.algorithms.preprocessing.reweighing import Reweighing\n",
        "import pdb\n",
        "from sklearn import metrics\n",
        "from sklearn.preprocessing import StandardScaler  #MinMaxScaler\n",
        "from sklearn.linear_model import LogisticRegression\n",
        "from sklearn import svm\n",
        "from sklearn.svm import SVC\n",
        "from sklearn import model_selection\n",
        "from sklearn.model_selection import *\n",
        "from sklearn.model_selection import cross_val_score\n",
        "from sklearn.model_selection import cross_val_predict\n",
        "from sklearn.model_selection import GridSearchCV\n",
        "from sklearn.model_selection import KFold, StratifiedKFold\n",
        "from sklearn import linear_model, tree, ensemble\n",
        "from sklearn.metrics import accuracy_score\n",
        "from sklearn.pipeline import make_pipeline\n",
        "import pandas as pd\n",
        "import numpy as np\n",
        "import io, os, sys, requests\n",
        "\n",
        "\n",
        "np.random.seed(0)"
      ],
      "metadata": {
        "id": "D1QtWOsLwK0G"
      },
      "execution_count": null,
      "outputs": []
    },
    {
      "cell_type": "code",
      "source": [
        "from aif360.algorithms.inprocessing.adversarial_debiasing import AdversarialDebiasing\n",
        "import tensorflow as tf\n",
        "tf.compat.v1.disable_eager_execution()\n",
        "tf.__version__"
      ],
      "metadata": {
        "colab": {
          "base_uri": "https://localhost:8080/",
          "height": 36
        },
        "id": "mtMSVCjA1vP6",
        "outputId": "d2b047cc-c369-4789-a476-030e0b2faa8d"
      },
      "execution_count": null,
      "outputs": [
        {
          "output_type": "execute_result",
          "data": {
            "text/plain": [
              "'2.8.0'"
            ],
            "application/vnd.google.colaboratory.intrinsic+json": {
              "type": "string"
            }
          },
          "metadata": {},
          "execution_count": 12
        }
      ]
    },
    {
      "cell_type": "code",
      "source": [
        "# Define where the bias is in the features in dataset\n",
        "privileged_groups = [{'race': 1}]\n",
        "unprivileged_groups = [{'race': 0}]\n",
        "dataset_orig = load_preproc_data_adult(['race'])\n",
        "\n",
        "default_mapping = {'protected_attribute_maps':[{1.0: 'Male', 0.0:'Female'},\n",
        "                                              {1.0:'White', 0.0:'Non-White'}]}\n",
        "metrics = ['Equal opportunity difference']\n",
        "# Split into train and test\n",
        "train, test = dataset_orig.split([0.7], shuffle=True)\n",
        "print(\"Training data size\", train.features.shape)\n",
        "print(\"Favourable and ufavourable labels:\", train.favorable_label, train.unfavorable_label)\n",
        "print(\"Protected attribute name:\", train.protected_attribute_names)\n",
        "print(\"Privileged and unprivileged protected attribute values:\", train.privileged_protected_attributes, train.unprivileged_protected_attributes)\n",
        "print(\"Dataset feature names\", train.feature_names)"
      ],
      "metadata": {
        "colab": {
          "base_uri": "https://localhost:8080/"
        },
        "id": "sDsLuF6Oi4GC",
        "outputId": "6f916f93-762a-42a6-e10e-1c29a35eed40"
      },
      "execution_count": null,
      "outputs": [
        {
          "output_type": "stream",
          "name": "stdout",
          "text": [
            "Training data size (34189, 18)\n",
            "Favourable and ufavourable labels: 1.0 0.0\n",
            "Protected attribute name: ['race']\n",
            "Privileged and unprivileged protected attribute values: [array([1.])] [array([0.])]\n",
            "Dataset feature names ['race', 'sex', 'Age (decade)=10', 'Age (decade)=20', 'Age (decade)=30', 'Age (decade)=40', 'Age (decade)=50', 'Age (decade)=60', 'Age (decade)=>=70', 'Education Years=6', 'Education Years=7', 'Education Years=8', 'Education Years=9', 'Education Years=10', 'Education Years=11', 'Education Years=12', 'Education Years=<6', 'Education Years=>12']\n"
          ]
        }
      ]
    },
    {
      "cell_type": "code",
      "source": [
        "# Train classifier on original data\n",
        "scale_orig = StandardScaler()\n",
        "X_train = scale_orig.fit_transform(train.features)\n",
        "y_train = train.labels.ravel()\n",
        "\n",
        "X_test = scale_orig.transform(test.features) \n",
        "y_test = test.labels.ravel()"
      ],
      "metadata": {
        "id": "GQHEcBZXm59H"
      },
      "execution_count": null,
      "outputs": []
    },
    {
      "cell_type": "markdown",
      "source": [
        "# **Adversarial Debiasing**"
      ],
      "metadata": {
        "id": "jdXUII2aViBO"
      }
    },
    {
      "cell_type": "markdown",
      "source": [
        "**Build plan classifier withouth debiasing**"
      ],
      "metadata": {
        "id": "YB6B_aPV1oTj"
      }
    },
    {
      "cell_type": "code",
      "source": [
        "sess = tf.compat.v1.Session()\n",
        "plain_model = AdversarialDebiasing(privileged_groups = privileged_groups,\n",
        "                          unprivileged_groups = unprivileged_groups,\n",
        "                          scope_name='plain_classifier',\n",
        "                          debias=False,\n",
        "                          sess=sess)"
      ],
      "metadata": {
        "id": "FwVO7Ugx1r4g"
      },
      "execution_count": null,
      "outputs": []
    },
    {
      "cell_type": "code",
      "source": [
        "plain_model.fit(train)"
      ],
      "metadata": {
        "colab": {
          "base_uri": "https://localhost:8080/"
        },
        "id": "if7u48l61sNv",
        "outputId": "80aa8666-886e-47e7-f6d2-7520d8d87de4"
      },
      "execution_count": null,
      "outputs": [
        {
          "output_type": "stream",
          "name": "stdout",
          "text": [
            "epoch 0; iter: 0; batch classifier loss: 0.672967\n",
            "epoch 0; iter: 200; batch classifier loss: 0.402007\n",
            "epoch 1; iter: 0; batch classifier loss: 0.460182\n",
            "epoch 1; iter: 200; batch classifier loss: 0.434673\n",
            "epoch 2; iter: 0; batch classifier loss: 0.439703\n",
            "epoch 2; iter: 200; batch classifier loss: 0.465170\n",
            "epoch 3; iter: 0; batch classifier loss: 0.427302\n",
            "epoch 3; iter: 200; batch classifier loss: 0.397274\n",
            "epoch 4; iter: 0; batch classifier loss: 0.446835\n",
            "epoch 4; iter: 200; batch classifier loss: 0.482675\n",
            "epoch 5; iter: 0; batch classifier loss: 0.508352\n",
            "epoch 5; iter: 200; batch classifier loss: 0.385574\n",
            "epoch 6; iter: 0; batch classifier loss: 0.380414\n",
            "epoch 6; iter: 200; batch classifier loss: 0.403661\n",
            "epoch 7; iter: 0; batch classifier loss: 0.461324\n",
            "epoch 7; iter: 200; batch classifier loss: 0.404989\n",
            "epoch 8; iter: 0; batch classifier loss: 0.360345\n",
            "epoch 8; iter: 200; batch classifier loss: 0.370048\n",
            "epoch 9; iter: 0; batch classifier loss: 0.400265\n",
            "epoch 9; iter: 200; batch classifier loss: 0.413816\n",
            "epoch 10; iter: 0; batch classifier loss: 0.437366\n",
            "epoch 10; iter: 200; batch classifier loss: 0.488666\n",
            "epoch 11; iter: 0; batch classifier loss: 0.388017\n",
            "epoch 11; iter: 200; batch classifier loss: 0.418568\n",
            "epoch 12; iter: 0; batch classifier loss: 0.407944\n",
            "epoch 12; iter: 200; batch classifier loss: 0.401104\n",
            "epoch 13; iter: 0; batch classifier loss: 0.479879\n",
            "epoch 13; iter: 200; batch classifier loss: 0.433238\n",
            "epoch 14; iter: 0; batch classifier loss: 0.362595\n",
            "epoch 14; iter: 200; batch classifier loss: 0.410859\n",
            "epoch 15; iter: 0; batch classifier loss: 0.407938\n",
            "epoch 15; iter: 200; batch classifier loss: 0.508209\n",
            "epoch 16; iter: 0; batch classifier loss: 0.461927\n",
            "epoch 16; iter: 200; batch classifier loss: 0.385285\n",
            "epoch 17; iter: 0; batch classifier loss: 0.336555\n",
            "epoch 17; iter: 200; batch classifier loss: 0.416862\n",
            "epoch 18; iter: 0; batch classifier loss: 0.359489\n",
            "epoch 18; iter: 200; batch classifier loss: 0.498199\n",
            "epoch 19; iter: 0; batch classifier loss: 0.389186\n",
            "epoch 19; iter: 200; batch classifier loss: 0.394237\n",
            "epoch 20; iter: 0; batch classifier loss: 0.396763\n",
            "epoch 20; iter: 200; batch classifier loss: 0.343784\n",
            "epoch 21; iter: 0; batch classifier loss: 0.475326\n",
            "epoch 21; iter: 200; batch classifier loss: 0.439716\n",
            "epoch 22; iter: 0; batch classifier loss: 0.438178\n",
            "epoch 22; iter: 200; batch classifier loss: 0.409054\n",
            "epoch 23; iter: 0; batch classifier loss: 0.386907\n",
            "epoch 23; iter: 200; batch classifier loss: 0.419179\n",
            "epoch 24; iter: 0; batch classifier loss: 0.452133\n",
            "epoch 24; iter: 200; batch classifier loss: 0.476881\n",
            "epoch 25; iter: 0; batch classifier loss: 0.364280\n",
            "epoch 25; iter: 200; batch classifier loss: 0.464983\n",
            "epoch 26; iter: 0; batch classifier loss: 0.356753\n",
            "epoch 26; iter: 200; batch classifier loss: 0.317030\n",
            "epoch 27; iter: 0; batch classifier loss: 0.414208\n",
            "epoch 27; iter: 200; batch classifier loss: 0.404169\n",
            "epoch 28; iter: 0; batch classifier loss: 0.524073\n",
            "epoch 28; iter: 200; batch classifier loss: 0.448453\n",
            "epoch 29; iter: 0; batch classifier loss: 0.288729\n",
            "epoch 29; iter: 200; batch classifier loss: 0.381526\n",
            "epoch 30; iter: 0; batch classifier loss: 0.420083\n",
            "epoch 30; iter: 200; batch classifier loss: 0.392758\n",
            "epoch 31; iter: 0; batch classifier loss: 0.460500\n",
            "epoch 31; iter: 200; batch classifier loss: 0.420928\n",
            "epoch 32; iter: 0; batch classifier loss: 0.422576\n",
            "epoch 32; iter: 200; batch classifier loss: 0.380756\n",
            "epoch 33; iter: 0; batch classifier loss: 0.433466\n",
            "epoch 33; iter: 200; batch classifier loss: 0.395844\n",
            "epoch 34; iter: 0; batch classifier loss: 0.382682\n",
            "epoch 34; iter: 200; batch classifier loss: 0.436272\n",
            "epoch 35; iter: 0; batch classifier loss: 0.451818\n",
            "epoch 35; iter: 200; batch classifier loss: 0.435733\n",
            "epoch 36; iter: 0; batch classifier loss: 0.434220\n",
            "epoch 36; iter: 200; batch classifier loss: 0.475778\n",
            "epoch 37; iter: 0; batch classifier loss: 0.370680\n",
            "epoch 37; iter: 200; batch classifier loss: 0.446368\n",
            "epoch 38; iter: 0; batch classifier loss: 0.387856\n",
            "epoch 38; iter: 200; batch classifier loss: 0.480446\n",
            "epoch 39; iter: 0; batch classifier loss: 0.405644\n",
            "epoch 39; iter: 200; batch classifier loss: 0.392149\n",
            "epoch 40; iter: 0; batch classifier loss: 0.440508\n",
            "epoch 40; iter: 200; batch classifier loss: 0.369230\n",
            "epoch 41; iter: 0; batch classifier loss: 0.343913\n",
            "epoch 41; iter: 200; batch classifier loss: 0.326749\n",
            "epoch 42; iter: 0; batch classifier loss: 0.386852\n",
            "epoch 42; iter: 200; batch classifier loss: 0.499849\n",
            "epoch 43; iter: 0; batch classifier loss: 0.380817\n",
            "epoch 43; iter: 200; batch classifier loss: 0.410531\n",
            "epoch 44; iter: 0; batch classifier loss: 0.314481\n",
            "epoch 44; iter: 200; batch classifier loss: 0.370029\n",
            "epoch 45; iter: 0; batch classifier loss: 0.420432\n",
            "epoch 45; iter: 200; batch classifier loss: 0.401380\n",
            "epoch 46; iter: 0; batch classifier loss: 0.520778\n",
            "epoch 46; iter: 200; batch classifier loss: 0.482157\n",
            "epoch 47; iter: 0; batch classifier loss: 0.389430\n",
            "epoch 47; iter: 200; batch classifier loss: 0.293249\n",
            "epoch 48; iter: 0; batch classifier loss: 0.485396\n",
            "epoch 48; iter: 200; batch classifier loss: 0.389103\n",
            "epoch 49; iter: 0; batch classifier loss: 0.416734\n",
            "epoch 49; iter: 200; batch classifier loss: 0.401773\n"
          ]
        },
        {
          "output_type": "execute_result",
          "data": {
            "text/plain": [
              "<aif360.algorithms.inprocessing.adversarial_debiasing.AdversarialDebiasing at 0x7f096eb07ed0>"
            ]
          },
          "metadata": {},
          "execution_count": 169
        }
      ]
    },
    {
      "cell_type": "markdown",
      "source": [
        "**Apply the plain model to test data**"
      ],
      "metadata": {
        "id": "Pp3x8FDs2WgK"
      }
    },
    {
      "cell_type": "code",
      "source": [
        "datasettrain_nodebiasing = plain_model.predict(train)\n",
        "datasettest_nodebiasing = plain_model.predict(test)"
      ],
      "metadata": {
        "id": "CM3ZoBDv2ayW"
      },
      "execution_count": null,
      "outputs": []
    },
    {
      "cell_type": "markdown",
      "source": [
        "**Metrics for the dataset from plain model (without debiasing)**"
      ],
      "metadata": {
        "id": "NC8B1UIW2fWK"
      }
    },
    {
      "cell_type": "code",
      "source": [
        "dataset_nodebiasing_train = BinaryLabelDatasetMetric(dataset_nodebiasing_train, \n",
        "                                             unprivileged_groups=unprivileged_groups,\n",
        "                                             privileged_groups=privileged_groups)\n",
        "dataset_nodebiasing_test = BinaryLabelDatasetMetric(datasettest_nodebiasing, \n",
        "                                             unprivileged_groups=unprivileged_groups,\n",
        "                                             privileged_groups=privileged_groups)"
      ],
      "metadata": {
        "id": "cfT9Hs4xR_UL"
      },
      "execution_count": null,
      "outputs": []
    },
    {
      "cell_type": "code",
      "source": [
        "model_test = ClassificationMetric(test,\n",
        "                                  dataset_nodebiasing_test,\n",
        "                                  unprivileged_groups=unprivileged_groups,\n",
        "                                  privileged_groups=privileged_groups)\n",
        "print(\"Classification accuracy (test set) = %.4f\" % model_test.accuracy())"
      ],
      "metadata": {
        "id": "U1heoP0O2bIf"
      },
      "execution_count": 1,
      "outputs": []
    },
    {
      "cell_type": "code",
      "source": [
        "TPR = model_test.true_positive_rate()\n",
        "TNR = model_test.true_negative_rate()\n",
        "bal_acc_nodebiasing_test = 0.5*(TPR+TNR)\n",
        "print(\"Balanced classification accuracy (test set) = %.4f\" % bal_acc_nodebiasing_test)\n",
        "print(\"Equal opportunity difference (test set) = %.4f\" % model_test.equal_opportunity_difference())"
      ],
      "metadata": {
        "id": "hs8leiRtVUAN"
      },
      "execution_count": null,
      "outputs": []
    },
    {
      "cell_type": "markdown",
      "source": [
        "**Apply in-processing algorithm based on adversarial learning**"
      ],
      "metadata": {
        "id": "03qr6n5f23r7"
      }
    },
    {
      "cell_type": "code",
      "source": [
        "sess.close()\n",
        "tf.compat.v1.reset_default_graph()\n",
        "sess = tf.compat.v1.Session()"
      ],
      "metadata": {
        "id": "tE1G3GxW29GF"
      },
      "execution_count": null,
      "outputs": []
    },
    {
      "cell_type": "code",
      "source": [
        "# Model learn parameteres when debias set to true\n",
        "debiased_model = AdversarialDebiasing(privileged_groups = privileged_groups,\n",
        "                          unprivileged_groups = unprivileged_groups,\n",
        "                          scope_name='debiased_classifier',\n",
        "                          debias=True,\n",
        "                          sess=sess)"
      ],
      "metadata": {
        "id": "S2zNYDlF2-o_"
      },
      "execution_count": null,
      "outputs": []
    },
    {
      "cell_type": "code",
      "source": [
        "debiased_model.fit(train)"
      ],
      "metadata": {
        "colab": {
          "base_uri": "https://localhost:8080/"
        },
        "id": "5AmlMp2n3BGf",
        "outputId": "835f24de-808d-4ed0-8fb2-39d1df56234a"
      },
      "execution_count": null,
      "outputs": [
        {
          "output_type": "stream",
          "name": "stdout",
          "text": [
            "epoch 0; iter: 0; batch classifier loss: 0.655340; batch adversarial loss: 0.616412\n",
            "epoch 0; iter: 200; batch classifier loss: 0.485609; batch adversarial loss: 0.628936\n",
            "epoch 1; iter: 0; batch classifier loss: 0.455992; batch adversarial loss: 0.605380\n",
            "epoch 1; iter: 200; batch classifier loss: 0.478797; batch adversarial loss: 0.557622\n",
            "epoch 2; iter: 0; batch classifier loss: 0.488786; batch adversarial loss: 0.623147\n",
            "epoch 2; iter: 200; batch classifier loss: 0.587420; batch adversarial loss: 0.502547\n",
            "epoch 3; iter: 0; batch classifier loss: 0.468105; batch adversarial loss: 0.481824\n",
            "epoch 3; iter: 200; batch classifier loss: 0.479166; batch adversarial loss: 0.446349\n",
            "epoch 4; iter: 0; batch classifier loss: 0.435897; batch adversarial loss: 0.485141\n",
            "epoch 4; iter: 200; batch classifier loss: 0.511022; batch adversarial loss: 0.422895\n",
            "epoch 5; iter: 0; batch classifier loss: 0.424229; batch adversarial loss: 0.470006\n",
            "epoch 5; iter: 200; batch classifier loss: 0.511946; batch adversarial loss: 0.388923\n",
            "epoch 6; iter: 0; batch classifier loss: 0.411220; batch adversarial loss: 0.411820\n",
            "epoch 6; iter: 200; batch classifier loss: 0.471833; batch adversarial loss: 0.475723\n",
            "epoch 7; iter: 0; batch classifier loss: 0.402341; batch adversarial loss: 0.408642\n",
            "epoch 7; iter: 200; batch classifier loss: 0.412969; batch adversarial loss: 0.402191\n",
            "epoch 8; iter: 0; batch classifier loss: 0.463501; batch adversarial loss: 0.383580\n",
            "epoch 8; iter: 200; batch classifier loss: 0.404564; batch adversarial loss: 0.419633\n",
            "epoch 9; iter: 0; batch classifier loss: 0.401373; batch adversarial loss: 0.425735\n",
            "epoch 9; iter: 200; batch classifier loss: 0.332446; batch adversarial loss: 0.400616\n",
            "epoch 10; iter: 0; batch classifier loss: 0.505015; batch adversarial loss: 0.441588\n",
            "epoch 10; iter: 200; batch classifier loss: 0.433769; batch adversarial loss: 0.319840\n",
            "epoch 11; iter: 0; batch classifier loss: 0.448392; batch adversarial loss: 0.413463\n",
            "epoch 11; iter: 200; batch classifier loss: 0.455468; batch adversarial loss: 0.406074\n",
            "epoch 12; iter: 0; batch classifier loss: 0.516032; batch adversarial loss: 0.425930\n",
            "epoch 12; iter: 200; batch classifier loss: 0.433316; batch adversarial loss: 0.407693\n",
            "epoch 13; iter: 0; batch classifier loss: 0.449609; batch adversarial loss: 0.415260\n",
            "epoch 13; iter: 200; batch classifier loss: 0.483153; batch adversarial loss: 0.394545\n",
            "epoch 14; iter: 0; batch classifier loss: 0.432326; batch adversarial loss: 0.420278\n",
            "epoch 14; iter: 200; batch classifier loss: 0.475944; batch adversarial loss: 0.467485\n",
            "epoch 15; iter: 0; batch classifier loss: 0.418194; batch adversarial loss: 0.358907\n",
            "epoch 15; iter: 200; batch classifier loss: 0.457806; batch adversarial loss: 0.320500\n",
            "epoch 16; iter: 0; batch classifier loss: 0.385841; batch adversarial loss: 0.416797\n",
            "epoch 16; iter: 200; batch classifier loss: 0.440195; batch adversarial loss: 0.433953\n",
            "epoch 17; iter: 0; batch classifier loss: 0.417439; batch adversarial loss: 0.363903\n",
            "epoch 17; iter: 200; batch classifier loss: 0.463111; batch adversarial loss: 0.377968\n",
            "epoch 18; iter: 0; batch classifier loss: 0.419043; batch adversarial loss: 0.402688\n",
            "epoch 18; iter: 200; batch classifier loss: 0.411395; batch adversarial loss: 0.406938\n",
            "epoch 19; iter: 0; batch classifier loss: 0.314542; batch adversarial loss: 0.379021\n",
            "epoch 19; iter: 200; batch classifier loss: 0.418130; batch adversarial loss: 0.442858\n",
            "epoch 20; iter: 0; batch classifier loss: 0.373231; batch adversarial loss: 0.458676\n",
            "epoch 20; iter: 200; batch classifier loss: 0.408721; batch adversarial loss: 0.474851\n",
            "epoch 21; iter: 0; batch classifier loss: 0.369053; batch adversarial loss: 0.430785\n",
            "epoch 21; iter: 200; batch classifier loss: 0.411983; batch adversarial loss: 0.394879\n",
            "epoch 22; iter: 0; batch classifier loss: 0.483948; batch adversarial loss: 0.363702\n",
            "epoch 22; iter: 200; batch classifier loss: 0.361847; batch adversarial loss: 0.437292\n",
            "epoch 23; iter: 0; batch classifier loss: 0.484569; batch adversarial loss: 0.377658\n",
            "epoch 23; iter: 200; batch classifier loss: 0.489377; batch adversarial loss: 0.412958\n",
            "epoch 24; iter: 0; batch classifier loss: 0.434016; batch adversarial loss: 0.424271\n",
            "epoch 24; iter: 200; batch classifier loss: 0.422204; batch adversarial loss: 0.445303\n",
            "epoch 25; iter: 0; batch classifier loss: 0.526230; batch adversarial loss: 0.463709\n",
            "epoch 25; iter: 200; batch classifier loss: 0.485912; batch adversarial loss: 0.369354\n",
            "epoch 26; iter: 0; batch classifier loss: 0.414382; batch adversarial loss: 0.418902\n",
            "epoch 26; iter: 200; batch classifier loss: 0.428988; batch adversarial loss: 0.437877\n",
            "epoch 27; iter: 0; batch classifier loss: 0.429592; batch adversarial loss: 0.385496\n",
            "epoch 27; iter: 200; batch classifier loss: 0.375876; batch adversarial loss: 0.500607\n",
            "epoch 28; iter: 0; batch classifier loss: 0.516475; batch adversarial loss: 0.449180\n",
            "epoch 28; iter: 200; batch classifier loss: 0.355660; batch adversarial loss: 0.475699\n",
            "epoch 29; iter: 0; batch classifier loss: 0.549708; batch adversarial loss: 0.342987\n",
            "epoch 29; iter: 200; batch classifier loss: 0.373090; batch adversarial loss: 0.460351\n",
            "epoch 30; iter: 0; batch classifier loss: 0.494758; batch adversarial loss: 0.455587\n",
            "epoch 30; iter: 200; batch classifier loss: 0.401851; batch adversarial loss: 0.370845\n",
            "epoch 31; iter: 0; batch classifier loss: 0.404264; batch adversarial loss: 0.394393\n",
            "epoch 31; iter: 200; batch classifier loss: 0.385555; batch adversarial loss: 0.496031\n",
            "epoch 32; iter: 0; batch classifier loss: 0.397155; batch adversarial loss: 0.400740\n",
            "epoch 32; iter: 200; batch classifier loss: 0.430363; batch adversarial loss: 0.503471\n",
            "epoch 33; iter: 0; batch classifier loss: 0.374916; batch adversarial loss: 0.430801\n",
            "epoch 33; iter: 200; batch classifier loss: 0.410121; batch adversarial loss: 0.396212\n",
            "epoch 34; iter: 0; batch classifier loss: 0.502400; batch adversarial loss: 0.401559\n",
            "epoch 34; iter: 200; batch classifier loss: 0.383369; batch adversarial loss: 0.455387\n",
            "epoch 35; iter: 0; batch classifier loss: 0.351740; batch adversarial loss: 0.358227\n",
            "epoch 35; iter: 200; batch classifier loss: 0.539497; batch adversarial loss: 0.326075\n",
            "epoch 36; iter: 0; batch classifier loss: 0.393358; batch adversarial loss: 0.349304\n",
            "epoch 36; iter: 200; batch classifier loss: 0.470594; batch adversarial loss: 0.342095\n",
            "epoch 37; iter: 0; batch classifier loss: 0.400187; batch adversarial loss: 0.422202\n",
            "epoch 37; iter: 200; batch classifier loss: 0.395558; batch adversarial loss: 0.499569\n",
            "epoch 38; iter: 0; batch classifier loss: 0.391882; batch adversarial loss: 0.441328\n",
            "epoch 38; iter: 200; batch classifier loss: 0.380811; batch adversarial loss: 0.415373\n",
            "epoch 39; iter: 0; batch classifier loss: 0.504180; batch adversarial loss: 0.383579\n",
            "epoch 39; iter: 200; batch classifier loss: 0.422624; batch adversarial loss: 0.366057\n",
            "epoch 40; iter: 0; batch classifier loss: 0.478253; batch adversarial loss: 0.430544\n",
            "epoch 40; iter: 200; batch classifier loss: 0.401835; batch adversarial loss: 0.284834\n",
            "epoch 41; iter: 0; batch classifier loss: 0.462682; batch adversarial loss: 0.396012\n",
            "epoch 41; iter: 200; batch classifier loss: 0.430935; batch adversarial loss: 0.359526\n",
            "epoch 42; iter: 0; batch classifier loss: 0.417274; batch adversarial loss: 0.374041\n",
            "epoch 42; iter: 200; batch classifier loss: 0.443803; batch adversarial loss: 0.355040\n",
            "epoch 43; iter: 0; batch classifier loss: 0.383000; batch adversarial loss: 0.371032\n",
            "epoch 43; iter: 200; batch classifier loss: 0.489885; batch adversarial loss: 0.397076\n",
            "epoch 44; iter: 0; batch classifier loss: 0.332302; batch adversarial loss: 0.401960\n",
            "epoch 44; iter: 200; batch classifier loss: 0.414601; batch adversarial loss: 0.442673\n",
            "epoch 45; iter: 0; batch classifier loss: 0.371009; batch adversarial loss: 0.367524\n",
            "epoch 45; iter: 200; batch classifier loss: 0.439072; batch adversarial loss: 0.355708\n",
            "epoch 46; iter: 0; batch classifier loss: 0.406386; batch adversarial loss: 0.406471\n",
            "epoch 46; iter: 200; batch classifier loss: 0.452744; batch adversarial loss: 0.400718\n",
            "epoch 47; iter: 0; batch classifier loss: 0.458435; batch adversarial loss: 0.468105\n",
            "epoch 47; iter: 200; batch classifier loss: 0.422662; batch adversarial loss: 0.357553\n",
            "epoch 48; iter: 0; batch classifier loss: 0.439659; batch adversarial loss: 0.463215\n",
            "epoch 48; iter: 200; batch classifier loss: 0.396188; batch adversarial loss: 0.404388\n",
            "epoch 49; iter: 0; batch classifier loss: 0.386744; batch adversarial loss: 0.441379\n",
            "epoch 49; iter: 200; batch classifier loss: 0.503160; batch adversarial loss: 0.400280\n"
          ]
        },
        {
          "output_type": "execute_result",
          "data": {
            "text/plain": [
              "<aif360.algorithms.inprocessing.adversarial_debiasing.AdversarialDebiasing at 0x7f0970793590>"
            ]
          },
          "metadata": {},
          "execution_count": 174
        }
      ]
    },
    {
      "cell_type": "markdown",
      "source": [
        "**Apply the plain model to test data**"
      ],
      "metadata": {
        "id": "nC8U-U5x3K5T"
      }
    },
    {
      "cell_type": "code",
      "source": [
        "debiasing_train = debiased_model.predict(train)\n",
        "debiasing_test = debiased_model.predict(test)"
      ],
      "metadata": {
        "id": "jLmVjmiD3Nl_"
      },
      "execution_count": null,
      "outputs": []
    },
    {
      "cell_type": "code",
      "source": [
        "dataset_debiasing_train = BinaryLabelDatasetMetric(debiasing_train, \n",
        "                                             unprivileged_groups=unprivileged_groups,\n",
        "                                             privileged_groups=privileged_groups)\n",
        "\n",
        "dataset_debiasing_test = BinaryLabelDatasetMetric(debiasing_test, \n",
        "                                             unprivileged_groups=unprivileged_groups,\n",
        "                                             privileged_groups=privileged_groups)"
      ],
      "metadata": {
        "id": "46D8wT2gVRP8"
      },
      "execution_count": null,
      "outputs": []
    },
    {
      "cell_type": "markdown",
      "source": [
        "**Metrics for the dataset from plain model (with debiasing)**"
      ],
      "metadata": {
        "id": "CUGxuBvjfOtS"
      }
    },
    {
      "cell_type": "code",
      "source": [
        "modeldebiasing_test = ClassificationMetric(test,\n",
        "                                           dataset_debiasing_test,\n",
        "                                           unprivileged_groups=unprivileged_groups,\n",
        "                                           privileged_groups=privileged_groups)\n",
        "print(\"Classification accuracy (test set) = %.4f\" % modeldebiasing_test.accuracy())"
      ],
      "metadata": {
        "id": "Rc3h0x0k3QLP"
      },
      "execution_count": null,
      "outputs": []
    },
    {
      "cell_type": "code",
      "source": [
        "TPR = modeldebiasing_test.true_positive_rate()\n",
        "TNR = modeldebiasing_test.true_negative_rate()\n",
        "bal_acc_debiasing_test = 0.5*(TPR+TNR)\n",
        "print(\"Balanced classification accuracy (test set) = %.4f\" % bal_acc_debiasing_test)\n",
        "print(\"Equal opportunity difference (test set) = %.4f\" % modeldebiasing_test.equal_opportunity_difference())"
      ],
      "metadata": {
        "id": "blzalYe6OgYk"
      },
      "execution_count": null,
      "outputs": []
    },
    {
      "cell_type": "markdown",
      "source": [
        "# **Weighted Oversampling**"
      ],
      "metadata": {
        "id": "o16WlLxMVYmk"
      }
    },
    {
      "cell_type": "code",
      "source": [
        "DATASET = (\n",
        "    \"http://archive.ics.uci.edu/ml/machine-learning-databases/adult/adult.data\",\n",
        "    \"http://archive.ics.uci.edu/ml/machine-learning-databases/adult/adult.names\",\n",
        "    \"http://archive.ics.uci.edu/ml/machine-learning-databases/adult/adult.test\",\n",
        ")\n",
        "\n",
        "def download_data(path='dataset', urls=DATASET):\n",
        "    if not os.path.exists(path):\n",
        "        os.mkdir(path)\n",
        "\n",
        "    for url in urls:\n",
        "        response = requests.get(url)\n",
        "        name = os.path.basename(url)\n",
        "        with open(os.path.join(path, name), 'wb') as f:\n",
        "          f.write(response.content)\n",
        "download_data()"
      ],
      "metadata": {
        "id": "kMwHLKywVwsM"
      },
      "execution_count": null,
      "outputs": []
    },
    {
      "cell_type": "code",
      "source": [
        "headers = ['age', 'workclass', 'fnlwgt', \n",
        "           'education', 'education-num', \n",
        "           'marital-status', 'occupation', \n",
        "           'relationship', 'race', 'sex', \n",
        "           'capital-gain', 'capital-loss', \n",
        "           'hours-per-week', 'native-country', \n",
        "           'predclass']\n",
        "training_raw = pd.read_csv('dataset/adult.data', \n",
        "                       header=None, \n",
        "                       names=headers, \n",
        "                       sep=',\\s', \n",
        "                       na_values=[\"?\"], \n",
        "                       engine='python')\n",
        "test_raw = pd.read_csv('dataset/adult.test', \n",
        "                      header=None, \n",
        "                      names=headers, \n",
        "                      sep=',\\s', \n",
        "                      na_values=[\"?\"], \n",
        "                      engine='python', \n",
        "                      skiprows=1)"
      ],
      "metadata": {
        "id": "vlNTPVUtV0TE"
      },
      "execution_count": null,
      "outputs": []
    },
    {
      "cell_type": "code",
      "source": [
        "dataset_raw = training_raw.append(test_raw)\n",
        "dataset_raw.reset_index(inplace=True)\n",
        "dataset_raw.drop('index',inplace=True,axis=1)"
      ],
      "metadata": {
        "id": "CxeX0X-rWKis"
      },
      "execution_count": null,
      "outputs": []
    },
    {
      "cell_type": "code",
      "source": [
        "transformed = train.convert_to_dataframe()[0]\n"
      ],
      "metadata": {
        "id": "TFjcA5cPT3Es"
      },
      "execution_count": null,
      "outputs": []
    },
    {
      "cell_type": "code",
      "source": [
        "x_trans = transformed.drop(['sex'], axis = 1)"
      ],
      "metadata": {
        "id": "3nAv6UtIUfAM"
      },
      "execution_count": null,
      "outputs": []
    },
    {
      "cell_type": "code",
      "source": [
        "import seaborn as sns\n",
        "corr = transformed.corr()\n",
        "ax = sns.heatmap(\n",
        "    corr, \n",
        "    vmin=-1, vmax=1, center=0,\n",
        "    cmap=sns.diverging_palette(20, 220, n=200),\n",
        "    square=True\n",
        ")\n",
        "ax.set_xticklabels(\n",
        "    ax.get_xticklabels(),\n",
        "    rotation=45,\n",
        "    horizontalalignment='right'\n",
        ");"
      ],
      "metadata": {
        "colab": {
          "base_uri": "https://localhost:8080/",
          "height": 343
        },
        "id": "R-rXq-99T3dR",
        "outputId": "a0173a69-32ff-46ac-f077-04546ee490fe"
      },
      "execution_count": null,
      "outputs": [
        {
          "output_type": "display_data",
          "data": {
            "text/plain": [
              "<Figure size 432x288 with 2 Axes>"
            ],
            "image/png": "[encoded data removed]"
          },
          "metadata": {
            "needs_background": "light"
          }
        }
      ]
    },
    {
      "cell_type": "code",
      "source": [
        "df = training_raw\n",
        "df"
      ],
      "metadata": {
        "colab": {
          "base_uri": "https://localhost:8080/",
          "height": 423
        },
        "id": "dlteo7RUB7Ws",
        "outputId": "1e87f77f-1a8f-4ba0-ab23-bda5988df802"
      },
      "execution_count": null,
      "outputs": [
        {
          "output_type": "execute_result",
          "data": {
            "text/plain": [
              "       age         workclass  fnlwgt   education  education-num  \\\n",
              "0       39         State-gov   77516   Bachelors             13   \n",
              "1       50  Self-emp-not-inc   83311   Bachelors             13   \n",
              "2       38           Private  215646     HS-grad              9   \n",
              "3       53           Private  234721        11th              7   \n",
              "4       28           Private  338409   Bachelors             13   \n",
              "...    ...               ...     ...         ...            ...   \n",
              "32556   27           Private  257302  Assoc-acdm             12   \n",
              "32557   40           Private  154374     HS-grad              9   \n",
              "32558   58           Private  151910     HS-grad              9   \n",
              "32559   22           Private  201490     HS-grad              9   \n",
              "32560   52      Self-emp-inc  287927     HS-grad              9   \n",
              "\n",
              "           marital-status         occupation   relationship   race     sex  \\\n",
              "0           Never-married       Adm-clerical  Not-in-family  White    Male   \n",
              "1      Married-civ-spouse    Exec-managerial        Husband  White    Male   \n",
              "2                Divorced  Handlers-cleaners  Not-in-family  White    Male   \n",
              "3      Married-civ-spouse  Handlers-cleaners        Husband  Black    Male   \n",
              "4      Married-civ-spouse     Prof-specialty           Wife  Black  Female   \n",
              "...                   ...                ...            ...    ...     ...   \n",
              "32556  Married-civ-spouse       Tech-support           Wife  White  Female   \n",
              "32557  Married-civ-spouse  Machine-op-inspct        Husband  White    Male   \n",
              "32558             Widowed       Adm-clerical      Unmarried  White  Female   \n",
              "32559       Never-married       Adm-clerical      Own-child  White    Male   \n",
              "32560  Married-civ-spouse    Exec-managerial           Wife  White  Female   \n",
              "\n",
              "       capital-gain  capital-loss  hours-per-week native-country predclass  \n",
              "0              2174             0              40  United-States     <=50K  \n",
              "1                 0             0              13  United-States     <=50K  \n",
              "2                 0             0              40  United-States     <=50K  \n",
              "3                 0             0              40  United-States     <=50K  \n",
              "4                 0             0              40           Cuba     <=50K  \n",
              "...             ...           ...             ...            ...       ...  \n",
              "32556             0             0              38  United-States     <=50K  \n",
              "32557             0             0              40  United-States      >50K  \n",
              "32558             0             0              40  United-States     <=50K  \n",
              "32559             0             0              20  United-States     <=50K  \n",
              "32560         15024             0              40  United-States      >50K  \n",
              "\n",
              "[32561 rows x 15 columns]"
            ],
            "text/html": [
              "\n",
              "  <div id=\"df-1b322f3b-4edb-4500-9b11-2ff05669b834\">\n",
              "    <div class=\"colab-df-container\">\n",
              "      <div>\n",
              "<style scoped>\n",
              "    .dataframe tbody tr th:only-of-type {\n",
              "        vertical-align: middle;\n",
              "    }\n",
              "\n",
              "    .dataframe tbody tr th {\n",
              "        vertical-align: top;\n",
              "    }\n",
              "\n",
              "    .dataframe thead th {\n",
              "        text-align: right;\n",
              "    }\n",
              "</style>\n",
              "<table border=\"1\" class=\"dataframe\">\n",
              "  <thead>\n",
              "    <tr style=\"text-align: right;\">\n",
              "      <th></th>\n",
              "      <th>age</th>\n",
              "      <th>workclass</th>\n",
              "      <th>fnlwgt</th>\n",
              "      <th>education</th>\n",
              "      <th>education-num</th>\n",
              "      <th>marital-status</th>\n",
              "      <th>occupation</th>\n",
              "      <th>relationship</th>\n",
              "      <th>race</th>\n",
              "      <th>sex</th>\n",
              "      <th>capital-gain</th>\n",
              "      <th>capital-loss</th>\n",
              "      <th>hours-per-week</th>\n",
              "      <th>native-country</th>\n",
              "      <th>predclass</th>\n",
              "    </tr>\n",
              "  </thead>\n",
              "  <tbody>\n",
              "    <tr>\n",
              "      <th>0</th>\n",
              "      <td>39</td>\n",
              "      <td>State-gov</td>\n",
              "      <td>77516</td>\n",
              "      <td>Bachelors</td>\n",
              "      <td>13</td>\n",
              "      <td>Never-married</td>\n",
              "      <td>Adm-clerical</td>\n",
              "      <td>Not-in-family</td>\n",
              "      <td>White</td>\n",
              "      <td>Male</td>\n",
              "      <td>2174</td>\n",
              "      <td>0</td>\n",
              "      <td>40</td>\n",
              "      <td>United-States</td>\n",
              "      <td>&lt;=50K</td>\n",
              "    </tr>\n",
              "    <tr>\n",
              "      <th>1</th>\n",
              "      <td>50</td>\n",
              "      <td>Self-emp-not-inc</td>\n",
              "      <td>83311</td>\n",
              "      <td>Bachelors</td>\n",
              "      <td>13</td>\n",
              "      <td>Married-civ-spouse</td>\n",
              "      <td>Exec-managerial</td>\n",
              "      <td>Husband</td>\n",
              "      <td>White</td>\n",
              "      <td>Male</td>\n",
              "      <td>0</td>\n",
              "      <td>0</td>\n",
              "      <td>13</td>\n",
              "      <td>United-States</td>\n",
              "      <td>&lt;=50K</td>\n",
              "    </tr>\n",
              "    <tr>\n",
              "      <th>2</th>\n",
              "      <td>38</td>\n",
              "      <td>Private</td>\n",
              "      <td>215646</td>\n",
              "      <td>HS-grad</td>\n",
              "      <td>9</td>\n",
              "      <td>Divorced</td>\n",
              "      <td>Handlers-cleaners</td>\n",
              "      <td>Not-in-family</td>\n",
              "      <td>White</td>\n",
              "      <td>Male</td>\n",
              "      <td>0</td>\n",
              "      <td>0</td>\n",
              "      <td>40</td>\n",
              "      <td>United-States</td>\n",
              "      <td>&lt;=50K</td>\n",
              "    </tr>\n",
              "    <tr>\n",
              "      <th>3</th>\n",
              "      <td>53</td>\n",
              "      <td>Private</td>\n",
              "      <td>234721</td>\n",
              "      <td>11th</td>\n",
              "      <td>7</td>\n",
              "      <td>Married-civ-spouse</td>\n",
              "      <td>Handlers-cleaners</td>\n",
              "      <td>Husband</td>\n",
              "      <td>Black</td>\n",
              "      <td>Male</td>\n",
              "      <td>0</td>\n",
              "      <td>0</td>\n",
              "      <td>40</td>\n",
              "      <td>United-States</td>\n",
              "      <td>&lt;=50K</td>\n",
              "    </tr>\n",
              "    <tr>\n",
              "      <th>4</th>\n",
              "      <td>28</td>\n",
              "      <td>Private</td>\n",
              "      <td>338409</td>\n",
              "      <td>Bachelors</td>\n",
              "      <td>13</td>\n",
              "      <td>Married-civ-spouse</td>\n",
              "      <td>Prof-specialty</td>\n",
              "      <td>Wife</td>\n",
              "      <td>Black</td>\n",
              "      <td>Female</td>\n",
              "      <td>0</td>\n",
              "      <td>0</td>\n",
              "      <td>40</td>\n",
              "      <td>Cuba</td>\n",
              "      <td>&lt;=50K</td>\n",
              "    </tr>\n",
              "    <tr>\n",
              "      <th>...</th>\n",
              "      <td>...</td>\n",
              "      <td>...</td>\n",
              "      <td>...</td>\n",
              "      <td>...</td>\n",
              "      <td>...</td>\n",
              "      <td>...</td>\n",
              "      <td>...</td>\n",
              "      <td>...</td>\n",
              "      <td>...</td>\n",
              "      <td>...</td>\n",
              "      <td>...</td>\n",
              "      <td>...</td>\n",
              "      <td>...</td>\n",
              "      <td>...</td>\n",
              "      <td>...</td>\n",
              "    </tr>\n",
              "    <tr>\n",
              "      <th>32556</th>\n",
              "      <td>27</td>\n",
              "      <td>Private</td>\n",
              "      <td>257302</td>\n",
              "      <td>Assoc-acdm</td>\n",
              "      <td>12</td>\n",
              "      <td>Married-civ-spouse</td>\n",
              "      <td>Tech-support</td>\n",
              "      <td>Wife</td>\n",
              "      <td>White</td>\n",
              "      <td>Female</td>\n",
              "      <td>0</td>\n",
              "      <td>0</td>\n",
              "      <td>38</td>\n",
              "      <td>United-States</td>\n",
              "      <td>&lt;=50K</td>\n",
              "    </tr>\n",
              "    <tr>\n",
              "      <th>32557</th>\n",
              "      <td>40</td>\n",
              "      <td>Private</td>\n",
              "      <td>154374</td>\n",
              "      <td>HS-grad</td>\n",
              "      <td>9</td>\n",
              "      <td>Married-civ-spouse</td>\n",
              "      <td>Machine-op-inspct</td>\n",
              "      <td>Husband</td>\n",
              "      <td>White</td>\n",
              "      <td>Male</td>\n",
              "      <td>0</td>\n",
              "      <td>0</td>\n",
              "      <td>40</td>\n",
              "      <td>United-States</td>\n",
              "      <td>&gt;50K</td>\n",
              "    </tr>\n",
              "    <tr>\n",
              "      <th>32558</th>\n",
              "      <td>58</td>\n",
              "      <td>Private</td>\n",
              "      <td>151910</td>\n",
              "      <td>HS-grad</td>\n",
              "      <td>9</td>\n",
              "      <td>Widowed</td>\n",
              "      <td>Adm-clerical</td>\n",
              "      <td>Unmarried</td>\n",
              "      <td>White</td>\n",
              "      <td>Female</td>\n",
              "      <td>0</td>\n",
              "      <td>0</td>\n",
              "      <td>40</td>\n",
              "      <td>United-States</td>\n",
              "      <td>&lt;=50K</td>\n",
              "    </tr>\n",
              "    <tr>\n",
              "      <th>32559</th>\n",
              "      <td>22</td>\n",
              "      <td>Private</td>\n",
              "      <td>201490</td>\n",
              "      <td>HS-grad</td>\n",
              "      <td>9</td>\n",
              "      <td>Never-married</td>\n",
              "      <td>Adm-clerical</td>\n",
              "      <td>Own-child</td>\n",
              "      <td>White</td>\n",
              "      <td>Male</td>\n",
              "      <td>0</td>\n",
              "      <td>0</td>\n",
              "      <td>20</td>\n",
              "      <td>United-States</td>\n",
              "      <td>&lt;=50K</td>\n",
              "    </tr>\n",
              "    <tr>\n",
              "      <th>32560</th>\n",
              "      <td>52</td>\n",
              "      <td>Self-emp-inc</td>\n",
              "      <td>287927</td>\n",
              "      <td>HS-grad</td>\n",
              "      <td>9</td>\n",
              "      <td>Married-civ-spouse</td>\n",
              "      <td>Exec-managerial</td>\n",
              "      <td>Wife</td>\n",
              "      <td>White</td>\n",
              "      <td>Female</td>\n",
              "      <td>15024</td>\n",
              "      <td>0</td>\n",
              "      <td>40</td>\n",
              "      <td>United-States</td>\n",
              "      <td>&gt;50K</td>\n",
              "    </tr>\n",
              "  </tbody>\n",
              "</table>\n",
              "<p>32561 rows × 15 columns</p>\n",
              "</div>\n",
              "      <button class=\"colab-df-convert\" onclick=\"convertToInteractive('df-1b322f3b-4edb-4500-9b11-2ff05669b834')\"\n",
              "              title=\"Convert this dataframe to an interactive table.\"\n",
              "              style=\"display:none;\">\n",
              "        \n",
              "  <svg xmlns=\"http://www.w3.org/2000/svg\" height=\"24px\"viewBox=\"0 0 24 24\"\n",
              "       width=\"24px\">\n",
              "    <path d=\"M0 0h24v24H0V0z\" fill=\"none\"/>\n",
              "    <path d=\"M18.56 5.44l.94 2.06.94-2.06 2.06-.94-2.06-.94-.94-2.06-.94 2.06-2.06.94zm-11 1L8.5 8.5l.94-2.06 2.06-.94-2.06-.94L8.5 2.5l-.94 2.06-2.06.94zm10 10l.94 2.06.94-2.06 2.06-.94-2.06-.94-.94-2.06-.94 2.06-2.06.94z\"/><path d=\"M17.41 7.96l-1.37-1.37c-.4-.4-.92-.59-1.43-.59-.52 0-1.04.2-1.43.59L10.3 9.45l-7.72 7.72c-.78.78-.78 2.05 0 2.83L4 21.41c.39.39.9.59 1.41.59.51 0 1.02-.2 1.41-.59l7.78-7.78 2.81-2.81c.8-.78.8-2.07 0-2.86zM5.41 20L4 18.59l7.72-7.72 1.47 1.35L5.41 20z\"/>\n",
              "  </svg>\n",
              "      </button>\n",
              "      \n",
              "  <style>\n",
              "    .colab-df-container {\n",
              "      display:flex;\n",
              "      flex-wrap:wrap;\n",
              "      gap: 12px;\n",
              "    }\n",
              "\n",
              "    .colab-df-convert {\n",
              "      background-color: #E8F0FE;\n",
              "      border: none;\n",
              "      border-radius: 50%;\n",
              "      cursor: pointer;\n",
              "      display: none;\n",
              "      fill: #1967D2;\n",
              "      height: 32px;\n",
              "      padding: 0 0 0 0;\n",
              "      width: 32px;\n",
              "    }\n",
              "\n",
              "    .colab-df-convert:hover {\n",
              "      background-color: #E2EBFA;\n",
              "      box-shadow: 0px 1px 2px rgba(60, 64, 67, 0.3), 0px 1px 3px 1px rgba(60, 64, 67, 0.15);\n",
              "      fill: #174EA6;\n",
              "    }\n",
              "\n",
              "    [theme=dark] .colab-df-convert {\n",
              "      background-color: #3B4455;\n",
              "      fill: #D2E3FC;\n",
              "    }\n",
              "\n",
              "    [theme=dark] .colab-df-convert:hover {\n",
              "      background-color: #434B5C;\n",
              "      box-shadow: 0px 1px 3px 1px rgba(0, 0, 0, 0.15);\n",
              "      filter: drop-shadow(0px 1px 2px rgba(0, 0, 0, 0.3));\n",
              "      fill: #FFFFFF;\n",
              "    }\n",
              "  </style>\n",
              "\n",
              "      <script>\n",
              "        const buttonEl =\n",
              "          document.querySelector('#df-1b322f3b-4edb-4500-9b11-2ff05669b834 button.colab-df-convert');\n",
              "        buttonEl.style.display =\n",
              "          google.colab.kernel.accessAllowed ? 'block' : 'none';\n",
              "\n",
              "        async function convertToInteractive(key) {\n",
              "          const element = document.querySelector('#df-1b322f3b-4edb-4500-9b11-2ff05669b834');\n",
              "          const dataTable =\n",
              "            await google.colab.kernel.invokeFunction('convertToInteractive',\n",
              "                                                     [key], {});\n",
              "          if (!dataTable) return;\n",
              "\n",
              "          const docLinkHtml = 'Like what you see? Visit the ' +\n",
              "            '<a target=\"_blank\" href=https://colab.research.google.com/notebooks/data_table.ipynb>data table notebook</a>'\n",
              "            + ' to learn more about interactive tables.';\n",
              "          element.innerHTML = '';\n",
              "          dataTable['output_type'] = 'display_data';\n",
              "          await google.colab.output.renderOutput(dataTable, element);\n",
              "          const docLink = document.createElement('div');\n",
              "          docLink.innerHTML = docLinkHtml;\n",
              "          element.appendChild(docLink);\n",
              "        }\n",
              "      </script>\n",
              "    </div>\n",
              "  </div>\n",
              "  "
            ]
          },
          "metadata": {},
          "execution_count": 34
        }
      ]
    },
    {
      "cell_type": "code",
      "source": [
        "df['sex'] = df['sex'].map({'Male': 1, 'Female': 0})"
      ],
      "metadata": {
        "id": "h7KAIa3wHHav"
      },
      "execution_count": null,
      "outputs": []
    },
    {
      "cell_type": "code",
      "source": [
        "df['predclass'] = df['predclass'].map({'>50K':1, '<=50K':0})"
      ],
      "metadata": {
        "id": "4qZM-hESISDO"
      },
      "execution_count": null,
      "outputs": []
    },
    {
      "cell_type": "code",
      "source": [
        "df['race'] = df['race'].map({'White':1, 'Asian-Pac-Islander':0, 'Black':0, 'Amer-Indian-Eskimo':0, 'Other':0 })"
      ],
      "metadata": {
        "id": "MXYBHQ7SY-dK"
      },
      "execution_count": null,
      "outputs": []
    },
    {
      "cell_type": "code",
      "source": [
        "df1 = df[['sex', 'predclass']]\n",
        "df_male = df.loc[(df[\"predclass\"] ==1) & (df[\"sex\"] == 0)]"
      ],
      "metadata": {
        "id": "i-N8pf71JhpN"
      },
      "execution_count": null,
      "outputs": []
    },
    {
      "cell_type": "code",
      "source": [
        "df_female = df.loc[(df[\"predclass\"] ==1) & (df[\"sex\"] == 1)]"
      ],
      "metadata": {
        "id": "JJQWMpIgJ2KN"
      },
      "execution_count": null,
      "outputs": []
    },
    {
      "cell_type": "code",
      "source": [
        "df_male = df_male.sample(len(df_female), replace=True)"
      ],
      "metadata": {
        "id": "BltuAxV4KGMe"
      },
      "execution_count": null,
      "outputs": []
    },
    {
      "cell_type": "code",
      "source": [
        "bigdata = df.append(df_male, ignore_index=True)\n",
        "bigdata"
      ],
      "metadata": {
        "colab": {
          "base_uri": "https://localhost:8080/",
          "height": 423
        },
        "id": "pefZhbUQRBgD",
        "outputId": "a1a7e1e2-e940-4817-8e9d-70532f84a682"
      },
      "execution_count": null,
      "outputs": [
        {
          "output_type": "execute_result",
          "data": {
            "text/plain": [
              "       age         workclass  fnlwgt   education  education-num  \\\n",
              "0       39         State-gov   77516   Bachelors             13   \n",
              "1       50  Self-emp-not-inc   83311   Bachelors             13   \n",
              "2       38           Private  215646     HS-grad              9   \n",
              "3       53           Private  234721        11th              7   \n",
              "4       28           Private  338409   Bachelors             13   \n",
              "...    ...               ...     ...         ...            ...   \n",
              "33735   35               NaN  320084   Bachelors             13   \n",
              "33736   34           Private  160216   Bachelors             13   \n",
              "33737   38           Private  139180   Bachelors             13   \n",
              "33738   39         Local-gov  111499  Assoc-acdm             12   \n",
              "33739   52      Self-emp-inc  287927     HS-grad              9   \n",
              "\n",
              "           marital-status         occupation   relationship  race  sex  \\\n",
              "0           Never-married       Adm-clerical  Not-in-family     1    1   \n",
              "1      Married-civ-spouse    Exec-managerial        Husband     1    1   \n",
              "2                Divorced  Handlers-cleaners  Not-in-family     1    1   \n",
              "3      Married-civ-spouse  Handlers-cleaners        Husband     0    1   \n",
              "4      Married-civ-spouse     Prof-specialty           Wife     0    0   \n",
              "...                   ...                ...            ...   ...  ...   \n",
              "33735  Married-civ-spouse                NaN           Wife     1    0   \n",
              "33736       Never-married    Exec-managerial  Not-in-family     1    0   \n",
              "33737            Divorced     Prof-specialty      Unmarried     0    0   \n",
              "33738  Married-civ-spouse       Adm-clerical           Wife     1    0   \n",
              "33739  Married-civ-spouse    Exec-managerial           Wife     1    0   \n",
              "\n",
              "       capital-gain  capital-loss  hours-per-week native-country  predclass  \n",
              "0              2174             0              40  United-States          0  \n",
              "1                 0             0              13  United-States          0  \n",
              "2                 0             0              40  United-States          0  \n",
              "3                 0             0              40  United-States          0  \n",
              "4                 0             0              40           Cuba          0  \n",
              "...             ...           ...             ...            ...        ...  \n",
              "33735             0             0              55  United-States          1  \n",
              "33736             0             0              55  United-States          1  \n",
              "33737         15020             0              45  United-States          1  \n",
              "33738             0             0              20  United-States          1  \n",
              "33739         15024             0              40  United-States          1  \n",
              "\n",
              "[33740 rows x 15 columns]"
            ],
            "text/html": [
              "\n",
              "  <div id=\"df-b0e093b1-fa40-4d29-ba25-01b7ba6547d1\">\n",
              "    <div class=\"colab-df-container\">\n",
              "      <div>\n",
              "<style scoped>\n",
              "    .dataframe tbody tr th:only-of-type {\n",
              "        vertical-align: middle;\n",
              "    }\n",
              "\n",
              "    .dataframe tbody tr th {\n",
              "        vertical-align: top;\n",
              "    }\n",
              "\n",
              "    .dataframe thead th {\n",
              "        text-align: right;\n",
              "    }\n",
              "</style>\n",
              "<table border=\"1\" class=\"dataframe\">\n",
              "  <thead>\n",
              "    <tr style=\"text-align: right;\">\n",
              "      <th></th>\n",
              "      <th>age</th>\n",
              "      <th>workclass</th>\n",
              "      <th>fnlwgt</th>\n",
              "      <th>education</th>\n",
              "      <th>education-num</th>\n",
              "      <th>marital-status</th>\n",
              "      <th>occupation</th>\n",
              "      <th>relationship</th>\n",
              "      <th>race</th>\n",
              "      <th>sex</th>\n",
              "      <th>capital-gain</th>\n",
              "      <th>capital-loss</th>\n",
              "      <th>hours-per-week</th>\n",
              "      <th>native-country</th>\n",
              "      <th>predclass</th>\n",
              "    </tr>\n",
              "  </thead>\n",
              "  <tbody>\n",
              "    <tr>\n",
              "      <th>0</th>\n",
              "      <td>39</td>\n",
              "      <td>State-gov</td>\n",
              "      <td>77516</td>\n",
              "      <td>Bachelors</td>\n",
              "      <td>13</td>\n",
              "      <td>Never-married</td>\n",
              "      <td>Adm-clerical</td>\n",
              "      <td>Not-in-family</td>\n",
              "      <td>1</td>\n",
              "      <td>1</td>\n",
              "      <td>2174</td>\n",
              "      <td>0</td>\n",
              "      <td>40</td>\n",
              "      <td>United-States</td>\n",
              "      <td>0</td>\n",
              "    </tr>\n",
              "    <tr>\n",
              "      <th>1</th>\n",
              "      <td>50</td>\n",
              "      <td>Self-emp-not-inc</td>\n",
              "      <td>83311</td>\n",
              "      <td>Bachelors</td>\n",
              "      <td>13</td>\n",
              "      <td>Married-civ-spouse</td>\n",
              "      <td>Exec-managerial</td>\n",
              "      <td>Husband</td>\n",
              "      <td>1</td>\n",
              "      <td>1</td>\n",
              "      <td>0</td>\n",
              "      <td>0</td>\n",
              "      <td>13</td>\n",
              "      <td>United-States</td>\n",
              "      <td>0</td>\n",
              "    </tr>\n",
              "    <tr>\n",
              "      <th>2</th>\n",
              "      <td>38</td>\n",
              "      <td>Private</td>\n",
              "      <td>215646</td>\n",
              "      <td>HS-grad</td>\n",
              "      <td>9</td>\n",
              "      <td>Divorced</td>\n",
              "      <td>Handlers-cleaners</td>\n",
              "      <td>Not-in-family</td>\n",
              "      <td>1</td>\n",
              "      <td>1</td>\n",
              "      <td>0</td>\n",
              "      <td>0</td>\n",
              "      <td>40</td>\n",
              "      <td>United-States</td>\n",
              "      <td>0</td>\n",
              "    </tr>\n",
              "    <tr>\n",
              "      <th>3</th>\n",
              "      <td>53</td>\n",
              "      <td>Private</td>\n",
              "      <td>234721</td>\n",
              "      <td>11th</td>\n",
              "      <td>7</td>\n",
              "      <td>Married-civ-spouse</td>\n",
              "      <td>Handlers-cleaners</td>\n",
              "      <td>Husband</td>\n",
              "      <td>0</td>\n",
              "      <td>1</td>\n",
              "      <td>0</td>\n",
              "      <td>0</td>\n",
              "      <td>40</td>\n",
              "      <td>United-States</td>\n",
              "      <td>0</td>\n",
              "    </tr>\n",
              "    <tr>\n",
              "      <th>4</th>\n",
              "      <td>28</td>\n",
              "      <td>Private</td>\n",
              "      <td>338409</td>\n",
              "      <td>Bachelors</td>\n",
              "      <td>13</td>\n",
              "      <td>Married-civ-spouse</td>\n",
              "      <td>Prof-specialty</td>\n",
              "      <td>Wife</td>\n",
              "      <td>0</td>\n",
              "      <td>0</td>\n",
              "      <td>0</td>\n",
              "      <td>0</td>\n",
              "      <td>40</td>\n",
              "      <td>Cuba</td>\n",
              "      <td>0</td>\n",
              "    </tr>\n",
              "    <tr>\n",
              "      <th>...</th>\n",
              "      <td>...</td>\n",
              "      <td>...</td>\n",
              "      <td>...</td>\n",
              "      <td>...</td>\n",
              "      <td>...</td>\n",
              "      <td>...</td>\n",
              "      <td>...</td>\n",
              "      <td>...</td>\n",
              "      <td>...</td>\n",
              "      <td>...</td>\n",
              "      <td>...</td>\n",
              "      <td>...</td>\n",
              "      <td>...</td>\n",
              "      <td>...</td>\n",
              "      <td>...</td>\n",
              "    </tr>\n",
              "    <tr>\n",
              "      <th>33735</th>\n",
              "      <td>35</td>\n",
              "      <td>NaN</td>\n",
              "      <td>320084</td>\n",
              "      <td>Bachelors</td>\n",
              "      <td>13</td>\n",
              "      <td>Married-civ-spouse</td>\n",
              "      <td>NaN</td>\n",
              "      <td>Wife</td>\n",
              "      <td>1</td>\n",
              "      <td>0</td>\n",
              "      <td>0</td>\n",
              "      <td>0</td>\n",
              "      <td>55</td>\n",
              "      <td>United-States</td>\n",
              "      <td>1</td>\n",
              "    </tr>\n",
              "    <tr>\n",
              "      <th>33736</th>\n",
              "      <td>34</td>\n",
              "      <td>Private</td>\n",
              "      <td>160216</td>\n",
              "      <td>Bachelors</td>\n",
              "      <td>13</td>\n",
              "      <td>Never-married</td>\n",
              "      <td>Exec-managerial</td>\n",
              "      <td>Not-in-family</td>\n",
              "      <td>1</td>\n",
              "      <td>0</td>\n",
              "      <td>0</td>\n",
              "      <td>0</td>\n",
              "      <td>55</td>\n",
              "      <td>United-States</td>\n",
              "      <td>1</td>\n",
              "    </tr>\n",
              "    <tr>\n",
              "      <th>33737</th>\n",
              "      <td>38</td>\n",
              "      <td>Private</td>\n",
              "      <td>139180</td>\n",
              "      <td>Bachelors</td>\n",
              "      <td>13</td>\n",
              "      <td>Divorced</td>\n",
              "      <td>Prof-specialty</td>\n",
              "      <td>Unmarried</td>\n",
              "      <td>0</td>\n",
              "      <td>0</td>\n",
              "      <td>15020</td>\n",
              "      <td>0</td>\n",
              "      <td>45</td>\n",
              "      <td>United-States</td>\n",
              "      <td>1</td>\n",
              "    </tr>\n",
              "    <tr>\n",
              "      <th>33738</th>\n",
              "      <td>39</td>\n",
              "      <td>Local-gov</td>\n",
              "      <td>111499</td>\n",
              "      <td>Assoc-acdm</td>\n",
              "      <td>12</td>\n",
              "      <td>Married-civ-spouse</td>\n",
              "      <td>Adm-clerical</td>\n",
              "      <td>Wife</td>\n",
              "      <td>1</td>\n",
              "      <td>0</td>\n",
              "      <td>0</td>\n",
              "      <td>0</td>\n",
              "      <td>20</td>\n",
              "      <td>United-States</td>\n",
              "      <td>1</td>\n",
              "    </tr>\n",
              "    <tr>\n",
              "      <th>33739</th>\n",
              "      <td>52</td>\n",
              "      <td>Self-emp-inc</td>\n",
              "      <td>287927</td>\n",
              "      <td>HS-grad</td>\n",
              "      <td>9</td>\n",
              "      <td>Married-civ-spouse</td>\n",
              "      <td>Exec-managerial</td>\n",
              "      <td>Wife</td>\n",
              "      <td>1</td>\n",
              "      <td>0</td>\n",
              "      <td>15024</td>\n",
              "      <td>0</td>\n",
              "      <td>40</td>\n",
              "      <td>United-States</td>\n",
              "      <td>1</td>\n",
              "    </tr>\n",
              "  </tbody>\n",
              "</table>\n",
              "<p>33740 rows × 15 columns</p>\n",
              "</div>\n",
              "      <button class=\"colab-df-convert\" onclick=\"convertToInteractive('df-b0e093b1-fa40-4d29-ba25-01b7ba6547d1')\"\n",
              "              title=\"Convert this dataframe to an interactive table.\"\n",
              "              style=\"display:none;\">\n",
              "        \n",
              "  <svg xmlns=\"http://www.w3.org/2000/svg\" height=\"24px\"viewBox=\"0 0 24 24\"\n",
              "       width=\"24px\">\n",
              "    <path d=\"M0 0h24v24H0V0z\" fill=\"none\"/>\n",
              "    <path d=\"M18.56 5.44l.94 2.06.94-2.06 2.06-.94-2.06-.94-.94-2.06-.94 2.06-2.06.94zm-11 1L8.5 8.5l.94-2.06 2.06-.94-2.06-.94L8.5 2.5l-.94 2.06-2.06.94zm10 10l.94 2.06.94-2.06 2.06-.94-2.06-.94-.94-2.06-.94 2.06-2.06.94z\"/><path d=\"M17.41 7.96l-1.37-1.37c-.4-.4-.92-.59-1.43-.59-.52 0-1.04.2-1.43.59L10.3 9.45l-7.72 7.72c-.78.78-.78 2.05 0 2.83L4 21.41c.39.39.9.59 1.41.59.51 0 1.02-.2 1.41-.59l7.78-7.78 2.81-2.81c.8-.78.8-2.07 0-2.86zM5.41 20L4 18.59l7.72-7.72 1.47 1.35L5.41 20z\"/>\n",
              "  </svg>\n",
              "      </button>\n",
              "      \n",
              "  <style>\n",
              "    .colab-df-container {\n",
              "      display:flex;\n",
              "      flex-wrap:wrap;\n",
              "      gap: 12px;\n",
              "    }\n",
              "\n",
              "    .colab-df-convert {\n",
              "      background-color: #E8F0FE;\n",
              "      border: none;\n",
              "      border-radius: 50%;\n",
              "      cursor: pointer;\n",
              "      display: none;\n",
              "      fill: #1967D2;\n",
              "      height: 32px;\n",
              "      padding: 0 0 0 0;\n",
              "      width: 32px;\n",
              "    }\n",
              "\n",
              "    .colab-df-convert:hover {\n",
              "      background-color: #E2EBFA;\n",
              "      box-shadow: 0px 1px 2px rgba(60, 64, 67, 0.3), 0px 1px 3px 1px rgba(60, 64, 67, 0.15);\n",
              "      fill: #174EA6;\n",
              "    }\n",
              "\n",
              "    [theme=dark] .colab-df-convert {\n",
              "      background-color: #3B4455;\n",
              "      fill: #D2E3FC;\n",
              "    }\n",
              "\n",
              "    [theme=dark] .colab-df-convert:hover {\n",
              "      background-color: #434B5C;\n",
              "      box-shadow: 0px 1px 3px 1px rgba(0, 0, 0, 0.15);\n",
              "      filter: drop-shadow(0px 1px 2px rgba(0, 0, 0, 0.3));\n",
              "      fill: #FFFFFF;\n",
              "    }\n",
              "  </style>\n",
              "\n",
              "      <script>\n",
              "        const buttonEl =\n",
              "          document.querySelector('#df-b0e093b1-fa40-4d29-ba25-01b7ba6547d1 button.colab-df-convert');\n",
              "        buttonEl.style.display =\n",
              "          google.colab.kernel.accessAllowed ? 'block' : 'none';\n",
              "\n",
              "        async function convertToInteractive(key) {\n",
              "          const element = document.querySelector('#df-b0e093b1-fa40-4d29-ba25-01b7ba6547d1');\n",
              "          const dataTable =\n",
              "            await google.colab.kernel.invokeFunction('convertToInteractive',\n",
              "                                                     [key], {});\n",
              "          if (!dataTable) return;\n",
              "\n",
              "          const docLinkHtml = 'Like what you see? Visit the ' +\n",
              "            '<a target=\"_blank\" href=https://colab.research.google.com/notebooks/data_table.ipynb>data table notebook</a>'\n",
              "            + ' to learn more about interactive tables.';\n",
              "          element.innerHTML = '';\n",
              "          dataTable['output_type'] = 'display_data';\n",
              "          await google.colab.output.renderOutput(dataTable, element);\n",
              "          const docLink = document.createElement('div');\n",
              "          docLink.innerHTML = docLinkHtml;\n",
              "          element.appendChild(docLink);\n",
              "        }\n",
              "      </script>\n",
              "    </div>\n",
              "  </div>\n",
              "  "
            ]
          },
          "metadata": {},
          "execution_count": 41
        }
      ]
    },
    {
      "cell_type": "code",
      "source": [
        "X=bigdata[['sex', 'race']].values\n",
        "y=bigdata['predclass'].values\n",
        "kf = KFold(n_splits=5,shuffle=True)\n",
        "y_hat_all = []\n",
        "for train_index, test_index in kf.split(X,y):\n",
        "    reg = LogisticRegression()\n",
        "    X_train, X_test = X[train_index], X[test_index]\n",
        "    y_train, y_test = y[train_index], y[test_index]\n",
        "    clf = reg.fit(X_train, y_train)\n",
        "    y_hat = clf.predict(X_test)\n",
        "    score = accuracy_score(y_test, y_hat)\n",
        "    print(score)\n",
        "    y_hat_all.append(y_hat)"
      ],
      "metadata": {
        "colab": {
          "base_uri": "https://localhost:8080/"
        },
        "id": "-2kJRCNJSCl4",
        "outputId": "ddf15e22-9744-4729-ffde-64cc90c70a36"
      },
      "execution_count": null,
      "outputs": [
        {
          "output_type": "stream",
          "name": "stdout",
          "text": [
            "0.7270302311796087\n",
            "0.7329579134558387\n",
            "0.7489626556016598\n",
            "0.728660343805572\n",
            "0.725696502667457\n"
          ]
        }
      ]
    }
  ]
}