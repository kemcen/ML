{
  "nbformat": 4,
  "nbformat_minor": 0,
  "metadata": {
    "colab": {
      "name": "ml.ipynb",
      "provenance": [],
      "collapsed_sections": [
        "uK3Teuzm8l6_",
        "D05gXnMdHrbm"
      ]
    },
    "kernelspec": {
      "name": "python3",
      "display_name": "Python 3"
    },
    "language_info": {
      "name": "python"
    }
  },
  "cells": [
    {
      "cell_type": "code",
      "execution_count": null,
      "metadata": {
        "colab": {
          "base_uri": "https://localhost:8080/"
        },
        "id": "soWxzyOMmzOe",
        "outputId": "7b78b9ab-9ea5-423e-a555-bb2525c49680"
      },
      "outputs": [
        {
          "output_type": "stream",
          "name": "stdout",
          "text": [
            "Collecting aif360[LFR]\n",
            "  Downloading aif360-0.4.0-py3-none-any.whl (175 kB)\n",
            "\u001b[?25l\r\u001b[K     |█▉                              | 10 kB 19.6 MB/s eta 0:00:01\r\u001b[K     |███▊                            | 20 kB 24.8 MB/s eta 0:00:01\r\u001b[K     |█████▋                          | 30 kB 11.5 MB/s eta 0:00:01\r\u001b[K     |███████▌                        | 40 kB 8.9 MB/s eta 0:00:01\r\u001b[K     |█████████▍                      | 51 kB 4.7 MB/s eta 0:00:01\r\u001b[K     |███████████▎                    | 61 kB 5.5 MB/s eta 0:00:01\r\u001b[K     |█████████████                   | 71 kB 5.6 MB/s eta 0:00:01\r\u001b[K     |███████████████                 | 81 kB 5.6 MB/s eta 0:00:01\r\u001b[K     |████████████████▉               | 92 kB 6.3 MB/s eta 0:00:01\r\u001b[K     |██████████████████▊             | 102 kB 5.3 MB/s eta 0:00:01\r\u001b[K     |████████████████████▋           | 112 kB 5.3 MB/s eta 0:00:01\r\u001b[K     |██████████████████████▌         | 122 kB 5.3 MB/s eta 0:00:01\r\u001b[K     |████████████████████████▎       | 133 kB 5.3 MB/s eta 0:00:01\r\u001b[K     |██████████████████████████▏     | 143 kB 5.3 MB/s eta 0:00:01\r\u001b[K     |████████████████████████████    | 153 kB 5.3 MB/s eta 0:00:01\r\u001b[K     |██████████████████████████████  | 163 kB 5.3 MB/s eta 0:00:01\r\u001b[K     |███████████████████████████████▉| 174 kB 5.3 MB/s eta 0:00:01\r\u001b[K     |████████████████████████████████| 175 kB 5.3 MB/s \n",
            "\u001b[33mWARNING: aif360 0.4.0 does not provide the extra 'lfr'\u001b[0m\n",
            "\u001b[?25hCollecting tempeh\n",
            "  Downloading tempeh-0.1.12-py3-none-any.whl (39 kB)\n",
            "Requirement already satisfied: pandas>=0.24.0 in /usr/local/lib/python3.7/dist-packages (from aif360[LFR]) (1.3.5)\n",
            "Requirement already satisfied: scipy<1.6.0,>=1.2.0 in /usr/local/lib/python3.7/dist-packages (from aif360[LFR]) (1.4.1)\n",
            "Requirement already satisfied: scikit-learn>=0.22.1 in /usr/local/lib/python3.7/dist-packages (from aif360[LFR]) (1.0.2)\n",
            "Requirement already satisfied: matplotlib in /usr/local/lib/python3.7/dist-packages (from aif360[LFR]) (3.2.2)\n",
            "Requirement already satisfied: numpy>=1.16 in /usr/local/lib/python3.7/dist-packages (from aif360[LFR]) (1.21.6)\n",
            "Requirement already satisfied: python-dateutil>=2.7.3 in /usr/local/lib/python3.7/dist-packages (from pandas>=0.24.0->aif360[LFR]) (2.8.2)\n",
            "Requirement already satisfied: pytz>=2017.3 in /usr/local/lib/python3.7/dist-packages (from pandas>=0.24.0->aif360[LFR]) (2022.1)\n",
            "Requirement already satisfied: six>=1.5 in /usr/local/lib/python3.7/dist-packages (from python-dateutil>=2.7.3->pandas>=0.24.0->aif360[LFR]) (1.15.0)\n",
            "Requirement already satisfied: threadpoolctl>=2.0.0 in /usr/local/lib/python3.7/dist-packages (from scikit-learn>=0.22.1->aif360[LFR]) (3.1.0)\n",
            "Requirement already satisfied: joblib>=0.11 in /usr/local/lib/python3.7/dist-packages (from scikit-learn>=0.22.1->aif360[LFR]) (1.1.0)\n",
            "Requirement already satisfied: kiwisolver>=1.0.1 in /usr/local/lib/python3.7/dist-packages (from matplotlib->aif360[LFR]) (1.4.2)\n",
            "Requirement already satisfied: pyparsing!=2.0.4,!=2.1.2,!=2.1.6,>=2.0.1 in /usr/local/lib/python3.7/dist-packages (from matplotlib->aif360[LFR]) (3.0.8)\n",
            "Requirement already satisfied: cycler>=0.10 in /usr/local/lib/python3.7/dist-packages (from matplotlib->aif360[LFR]) (0.11.0)\n",
            "Requirement already satisfied: typing-extensions in /usr/local/lib/python3.7/dist-packages (from kiwisolver>=1.0.1->matplotlib->aif360[LFR]) (4.2.0)\n",
            "Collecting shap\n",
            "  Downloading shap-0.40.0-cp37-cp37m-manylinux2010_x86_64.whl (564 kB)\n",
            "\u001b[K     |████████████████████████████████| 564 kB 33.6 MB/s \n",
            "\u001b[?25hRequirement already satisfied: requests in /usr/local/lib/python3.7/dist-packages (from tempeh->aif360[LFR]) (2.23.0)\n",
            "Collecting memory-profiler\n",
            "  Downloading memory_profiler-0.60.0.tar.gz (38 kB)\n",
            "Requirement already satisfied: pytest in /usr/local/lib/python3.7/dist-packages (from tempeh->aif360[LFR]) (3.6.4)\n",
            "Requirement already satisfied: psutil in /usr/local/lib/python3.7/dist-packages (from memory-profiler->tempeh->aif360[LFR]) (5.4.8)\n",
            "Requirement already satisfied: attrs>=17.4.0 in /usr/local/lib/python3.7/dist-packages (from pytest->tempeh->aif360[LFR]) (21.4.0)\n",
            "Requirement already satisfied: more-itertools>=4.0.0 in /usr/local/lib/python3.7/dist-packages (from pytest->tempeh->aif360[LFR]) (8.12.0)\n",
            "Requirement already satisfied: setuptools in /usr/local/lib/python3.7/dist-packages (from pytest->tempeh->aif360[LFR]) (57.4.0)\n",
            "Requirement already satisfied: pluggy<0.8,>=0.5 in /usr/local/lib/python3.7/dist-packages (from pytest->tempeh->aif360[LFR]) (0.7.1)\n",
            "Requirement already satisfied: atomicwrites>=1.0 in /usr/local/lib/python3.7/dist-packages (from pytest->tempeh->aif360[LFR]) (1.4.0)\n",
            "Requirement already satisfied: py>=1.5.0 in /usr/local/lib/python3.7/dist-packages (from pytest->tempeh->aif360[LFR]) (1.11.0)\n",
            "Requirement already satisfied: idna<3,>=2.5 in /usr/local/lib/python3.7/dist-packages (from requests->tempeh->aif360[LFR]) (2.10)\n",
            "Requirement already satisfied: certifi>=2017.4.17 in /usr/local/lib/python3.7/dist-packages (from requests->tempeh->aif360[LFR]) (2021.10.8)\n",
            "Requirement already satisfied: urllib3!=1.25.0,!=1.25.1,<1.26,>=1.21.1 in /usr/local/lib/python3.7/dist-packages (from requests->tempeh->aif360[LFR]) (1.24.3)\n",
            "Requirement already satisfied: chardet<4,>=3.0.2 in /usr/local/lib/python3.7/dist-packages (from requests->tempeh->aif360[LFR]) (3.0.4)\n",
            "Requirement already satisfied: tqdm>4.25.0 in /usr/local/lib/python3.7/dist-packages (from shap->tempeh->aif360[LFR]) (4.64.0)\n",
            "Collecting slicer==0.0.7\n",
            "  Downloading slicer-0.0.7-py3-none-any.whl (14 kB)\n",
            "Requirement already satisfied: packaging>20.9 in /usr/local/lib/python3.7/dist-packages (from shap->tempeh->aif360[LFR]) (21.3)\n",
            "Requirement already satisfied: cloudpickle in /usr/local/lib/python3.7/dist-packages (from shap->tempeh->aif360[LFR]) (1.3.0)\n",
            "Requirement already satisfied: numba in /usr/local/lib/python3.7/dist-packages (from shap->tempeh->aif360[LFR]) (0.51.2)\n",
            "Requirement already satisfied: llvmlite<0.35,>=0.34.0.dev0 in /usr/local/lib/python3.7/dist-packages (from numba->shap->tempeh->aif360[LFR]) (0.34.0)\n",
            "Building wheels for collected packages: memory-profiler\n",
            "  Building wheel for memory-profiler (setup.py) ... \u001b[?25l\u001b[?25hdone\n",
            "  Created wheel for memory-profiler: filename=memory_profiler-0.60.0-py3-none-any.whl size=31284 sha256=afa90d8437e01f9744e790f0b621f770c85074a01f57e9dfd28a4a2493963fdd\n",
            "  Stored in directory: /root/.cache/pip/wheels/67/2b/fb/326e30d638c538e69a5eb0aa47f4223d979f502bbdb403950f\n",
            "Successfully built memory-profiler\n",
            "Installing collected packages: slicer, shap, memory-profiler, tempeh, aif360\n",
            "Successfully installed aif360-0.4.0 memory-profiler-0.60.0 shap-0.40.0 slicer-0.0.7 tempeh-0.1.12\n"
          ]
        }
      ],
      "source": [
        "!pip install 'aif360[LFR]'"
      ]
    },
    {
      "cell_type": "code",
      "source": [
        "cd /usr/local/lib/python3.7/dist-packages/aif360/data/raw/adult"
      ],
      "metadata": {
        "colab": {
          "base_uri": "https://localhost:8080/"
        },
        "id": "WonpMUHNrU9a",
        "outputId": "8f53d214-fd97-4d5c-ceb4-94d37ca2d62c"
      },
      "execution_count": null,
      "outputs": [
        {
          "output_type": "stream",
          "name": "stdout",
          "text": [
            "/usr/local/lib/python3.7/dist-packages/aif360/data/raw/adult\n"
          ]
        }
      ]
    },
    {
      "cell_type": "code",
      "source": [
        "!wget https://archive.ics.uci.edu/ml/machine-learning-databases/adult/adult.data\n",
        "!wget https://archive.ics.uci.edu/ml/machine-learning-databases/adult/adult.names\n",
        "!wget https://archive.ics.uci.edu/ml/machine-learning-databases/adult/adult.test"
      ],
      "metadata": {
        "colab": {
          "base_uri": "https://localhost:8080/"
        },
        "id": "8uF1zk0RrcHp",
        "outputId": "23eb91b7-9e1a-491e-c3bd-b72595833a4f"
      },
      "execution_count": null,
      "outputs": [
        {
          "output_type": "stream",
          "name": "stdout",
          "text": [
            "--2022-05-11 16:45:53--  https://archive.ics.uci.edu/ml/machine-learning-databases/adult/adult.data\n",
            "Resolving archive.ics.uci.edu (archive.ics.uci.edu)... 128.195.10.252\n",
            "Connecting to archive.ics.uci.edu (archive.ics.uci.edu)|128.195.10.252|:443... connected.\n",
            "HTTP request sent, awaiting response... 200 OK\n",
            "Length: 3974305 (3.8M) [application/x-httpd-php]\n",
            "Saving to: ‘adult.data’\n",
            "\n",
            "adult.data          100%[===================>]   3.79M  9.21MB/s    in 0.4s    \n",
            "\n",
            "2022-05-11 16:45:54 (9.21 MB/s) - ‘adult.data’ saved [3974305/3974305]\n",
            "\n",
            "--2022-05-11 16:45:54--  https://archive.ics.uci.edu/ml/machine-learning-databases/adult/adult.names\n",
            "Resolving archive.ics.uci.edu (archive.ics.uci.edu)... 128.195.10.252\n",
            "Connecting to archive.ics.uci.edu (archive.ics.uci.edu)|128.195.10.252|:443... connected.\n",
            "HTTP request sent, awaiting response... 200 OK\n",
            "Length: 5229 (5.1K) [application/x-httpd-php]\n",
            "Saving to: ‘adult.names’\n",
            "\n",
            "adult.names         100%[===================>]   5.11K  --.-KB/s    in 0s      \n",
            "\n",
            "2022-05-11 16:45:54 (106 MB/s) - ‘adult.names’ saved [5229/5229]\n",
            "\n",
            "--2022-05-11 16:45:54--  https://archive.ics.uci.edu/ml/machine-learning-databases/adult/adult.test\n",
            "Resolving archive.ics.uci.edu (archive.ics.uci.edu)... 128.195.10.252\n",
            "Connecting to archive.ics.uci.edu (archive.ics.uci.edu)|128.195.10.252|:443... connected.\n",
            "HTTP request sent, awaiting response... 200 OK\n",
            "Length: 2003153 (1.9M) [application/x-httpd-php]\n",
            "Saving to: ‘adult.test’\n",
            "\n",
            "adult.test          100%[===================>]   1.91M  5.33MB/s    in 0.4s    \n",
            "\n",
            "2022-05-11 16:45:55 (5.33 MB/s) - ‘adult.test’ saved [2003153/2003153]\n",
            "\n"
          ]
        }
      ]
    },
    {
      "cell_type": "code",
      "source": [
        "!pip install dalex"
      ],
      "metadata": {
        "colab": {
          "base_uri": "https://localhost:8080/"
        },
        "id": "BsnYUiy4Khhm",
        "outputId": "3b70ddd8-2b20-4a01-9cd6-5ca28c6b2677"
      },
      "execution_count": null,
      "outputs": [
        {
          "output_type": "stream",
          "name": "stdout",
          "text": [
            "Collecting dalex\n",
            "  Downloading dalex-1.4.1.tar.gz (1.0 MB)\n",
            "\u001b[K     |████████████████████████████████| 1.0 MB 5.3 MB/s \n",
            "\u001b[?25hRequirement already satisfied: setuptools in /usr/local/lib/python3.7/dist-packages (from dalex) (57.4.0)\n",
            "Requirement already satisfied: pandas>=1.1.2 in /usr/local/lib/python3.7/dist-packages (from dalex) (1.3.5)\n",
            "Requirement already satisfied: numpy>=1.18.4 in /usr/local/lib/python3.7/dist-packages (from dalex) (1.21.6)\n",
            "Requirement already satisfied: plotly>=4.12.0 in /usr/local/lib/python3.7/dist-packages (from dalex) (5.5.0)\n",
            "Requirement already satisfied: tqdm>=4.48.2 in /usr/local/lib/python3.7/dist-packages (from dalex) (4.64.0)\n",
            "Collecting scipy>=1.5.4\n",
            "  Downloading scipy-1.7.3-cp37-cp37m-manylinux_2_12_x86_64.manylinux2010_x86_64.whl (38.1 MB)\n",
            "\u001b[K     |████████████████████████████████| 38.1 MB 43.9 MB/s \n",
            "\u001b[?25hRequirement already satisfied: pytz>=2017.3 in /usr/local/lib/python3.7/dist-packages (from pandas>=1.1.2->dalex) (2022.1)\n",
            "Requirement already satisfied: python-dateutil>=2.7.3 in /usr/local/lib/python3.7/dist-packages (from pandas>=1.1.2->dalex) (2.8.2)\n",
            "Requirement already satisfied: six in /usr/local/lib/python3.7/dist-packages (from plotly>=4.12.0->dalex) (1.15.0)\n",
            "Requirement already satisfied: tenacity>=6.2.0 in /usr/local/lib/python3.7/dist-packages (from plotly>=4.12.0->dalex) (8.0.1)\n",
            "Building wheels for collected packages: dalex\n",
            "  Building wheel for dalex (setup.py) ... \u001b[?25l\u001b[?25hdone\n",
            "  Created wheel for dalex: filename=dalex-1.4.1-py3-none-any.whl size=1042860 sha256=e95bcebcd27d175fb66a25140fbbbbdb05e2baff9c06894b0e5c9490c9a30444\n",
            "  Stored in directory: /root/.cache/pip/wheels/8c/8e/1b/95d59374d386e8e495aed6cbab4c4b6d72be73993a424c5e12\n",
            "Successfully built dalex\n",
            "Installing collected packages: scipy, dalex\n",
            "  Attempting uninstall: scipy\n",
            "    Found existing installation: scipy 1.4.1\n",
            "    Uninstalling scipy-1.4.1:\n",
            "      Successfully uninstalled scipy-1.4.1\n",
            "\u001b[31mERROR: pip's dependency resolver does not currently take into account all the packages that are installed. This behaviour is the source of the following dependency conflicts.\n",
            "albumentations 0.1.12 requires imgaug<0.2.7,>=0.2.5, but you have imgaug 0.2.9 which is incompatible.\n",
            "aif360 0.4.0 requires scipy<1.6.0,>=1.2.0, but you have scipy 1.7.3 which is incompatible.\u001b[0m\n",
            "Successfully installed dalex-1.4.1 scipy-1.7.3\n"
          ]
        }
      ]
    },
    {
      "cell_type": "code",
      "source": [
        "# Import the AIF360 library and set the random seed.\n",
        "import numpy as np\n",
        "import pandas as pd\n",
        "from aif360.datasets import AdultDataset\n",
        "from aif360.algorithms.preprocessing.optim_preproc_helpers.data_preproc_functions import load_preproc_data_adult\n",
        "from aif360.algorithms.preprocessing.optim_preproc_helpers.data_preproc_functions import load_preproc_data_german\n",
        "from aif360.metrics import ClassificationMetric, BinaryLabelDatasetMetric\n",
        "from aif360.algorithms.preprocessing.reweighing import Reweighing\n",
        "import pdb\n",
        "from sklearn import metrics\n",
        "from sklearn.preprocessing import StandardScaler  #MinMaxScaler\n",
        "from sklearn.linear_model import LogisticRegression\n",
        "from sklearn import svm\n",
        "from sklearn.svm import SVC\n",
        "from sklearn import model_selection\n",
        "from sklearn.model_selection import *\n",
        "from sklearn.model_selection import cross_val_score\n",
        "from sklearn.model_selection import cross_val_predict\n",
        "from sklearn.model_selection import GridSearchCV\n",
        "from sklearn.model_selection import KFold, StratifiedKFold\n",
        "from sklearn import linear_model, tree, ensemble\n",
        "from sklearn.metrics import accuracy_score\n",
        "from sklearn.pipeline import make_pipeline\n",
        "import pandas as pd\n",
        "import numpy as np\n",
        "import matplotlib.pyplot as plt\n",
        "\n",
        "\n",
        "\n",
        "np.random.seed(0)"
      ],
      "metadata": {
        "id": "oy8SxYfAreDY"
      },
      "execution_count": null,
      "outputs": []
    },
    {
      "cell_type": "code",
      "source": [
        "# Define where the bias is in the features in dataset\n",
        "privileged_groups = [{'sex': 1}]\n",
        "unprivileged_groups = [{'sex': 0}]\n",
        "dataset_orig = load_preproc_data_adult(['sex'])\n",
        "\n",
        "# Split into train and test\n",
        "train, test = dataset_orig.split([0.7], shuffle=True)\n",
        "print(\"Training data size\", train.features.shape)\n",
        "print(\"Favourable and ufavourable labels:\", train.favorable_label, train.unfavorable_label)\n",
        "print(\"Protected attribute name:\", train.protected_attribute_names)\n",
        "print(\"Privileged and unprivileged protected attribute values:\", train.privileged_protected_attributes, train.unprivileged_protected_attributes)\n",
        "print(\"Dataset feature names\", train.feature_names)"
      ],
      "metadata": {
        "colab": {
          "base_uri": "https://localhost:8080/"
        },
        "id": "LSBJBdcIri6p",
        "outputId": "e4710043-0145-4212-f644-7372aca89eab"
      },
      "execution_count": null,
      "outputs": [
        {
          "output_type": "stream",
          "name": "stdout",
          "text": [
            "Training data size (34189, 18)\n",
            "Favourable and ufavourable labels: 1.0 0.0\n",
            "Protected attribute name: ['sex']\n",
            "Privileged and unprivileged protected attribute values: [array([1.])] [array([0.])]\n",
            "Dataset feature names ['race', 'sex', 'Age (decade)=10', 'Age (decade)=20', 'Age (decade)=30', 'Age (decade)=40', 'Age (decade)=50', 'Age (decade)=60', 'Age (decade)=>=70', 'Education Years=6', 'Education Years=7', 'Education Years=8', 'Education Years=9', 'Education Years=10', 'Education Years=11', 'Education Years=12', 'Education Years=<6', 'Education Years=>12']\n"
          ]
        }
      ]
    },
    {
      "cell_type": "code",
      "source": [
        "dataset_orig_train, dataset_orig_vt = dataset_orig.split([0.7], shuffle=True)\n",
        "dataset_orig_valid, dataset_orig_test = dataset_orig_vt.split([0.7], shuffle=True)"
      ],
      "metadata": {
        "id": "NRGLYzxnG_r5"
      },
      "execution_count": null,
      "outputs": []
    },
    {
      "cell_type": "code",
      "source": [
        "from aif360.datasets.binary_label_dataset import BinaryLabelDataset\n",
        "metric_orig_train = BinaryLabelDatasetMetric(train, unprivileged_groups=unprivileged_groups, privileged_groups=privileged_groups)\n",
        "print(\"Difference in mean outcomes between privileged and unpirivileged groups: %f\" % metric_orig_train.mean_difference())"
      ],
      "metadata": {
        "colab": {
          "base_uri": "https://localhost:8080/"
        },
        "id": "oqBkkfplJJmy",
        "outputId": "f62a4be3-18fa-4b3d-c9a9-9128e4cfe2a9"
      },
      "execution_count": null,
      "outputs": [
        {
          "output_type": "stream",
          "name": "stdout",
          "text": [
            "Difference in mean outcomes between privileged and unpirivileged groups: -0.193075\n"
          ]
        }
      ]
    },
    {
      "cell_type": "code",
      "source": [
        "# Train classifier on original data\n",
        "scale_orig = StandardScaler()\n",
        "X_train = scale_orig.fit_transform(train.features)\n",
        "y_train = train.labels.ravel()\n",
        "\n",
        "X_test = scale_orig.transform(test.features) \n",
        "y_test = test.labels.ravel()\n",
        "\n",
        "lr_mod = LogisticRegression()\n",
        "lr_mod.fit(X_train, y_train)\n",
        "y_predict = lr_mod.predict(X_train)\n",
        "\n",
        "# pos_ind = np.where(lr_mod.classes_ == train.favorable_label)[0][0]\n",
        "\n",
        "# orig_train_predict = train.copy(deepcopy=True)\n",
        "# orig_train_predict.labels = y_predict"
      ],
      "metadata": {
        "id": "kCf1MX0WKgN8"
      },
      "execution_count": null,
      "outputs": []
    },
    {
      "cell_type": "code",
      "source": [
        "train.privileged_protected_attributes"
      ],
      "metadata": {
        "colab": {
          "base_uri": "https://localhost:8080/"
        },
        "id": "wIT5FbZxW8P6",
        "outputId": "dc9b55df-842d-4642-ec4a-0ee1cba93baf"
      },
      "execution_count": null,
      "outputs": [
        {
          "output_type": "execute_result",
          "data": {
            "text/plain": [
              "[array([1.])]"
            ]
          },
          "metadata": {},
          "execution_count": 9
        }
      ]
    },
    {
      "cell_type": "code",
      "source": [
        "# Obtain for test sets\n",
        "test_predict = test.copy(deepcopy=True)"
      ],
      "metadata": {
        "id": "a5h7cL8ZJJpy"
      },
      "execution_count": null,
      "outputs": []
    },
    {
      "cell_type": "code",
      "source": [
        "%matplotlib inline\n",
        "import seaborn as sns\n",
        "sns.distplot(y_train) # Look at target's distribution and descriptive stats"
      ],
      "metadata": {
        "id": "VxaBA1a16rIN",
        "colab": {
          "base_uri": "https://localhost:8080/",
          "height": 300
        },
        "outputId": "ed677a63-eed5-4d57-f75c-25e29d1050fd"
      },
      "execution_count": null,
      "outputs": [
        {
          "output_type": "stream",
          "name": "stderr",
          "text": [
            "`distplot` is a deprecated function and will be removed in a future version. Please adapt your code to use either `displot` (a figure-level function with similar flexibility) or `histplot` (an axes-level function for histograms).\n"
          ]
        },
        {
          "output_type": "execute_result",
          "data": {
            "text/plain": [
              "<matplotlib.axes._subplots.AxesSubplot at 0x7f024c2cf910>"
            ]
          },
          "metadata": {},
          "execution_count": 31
        },
        {
          "output_type": "display_data",
          "data": {
            "text/plain": [
              "<Figure size 432x288 with 1 Axes>"
            ],
            "image/png": "[encoded data removed]"
          },
          "metadata": {
            "needs_background": "light"
          }
        }
      ]
    },
    {
      "cell_type": "code",
      "source": [
        "df_describe = pd.DataFrame(y_train)\n",
        "df_describe.describe()"
      ],
      "metadata": {
        "id": "cPOXvXwx6rKr",
        "colab": {
          "base_uri": "https://localhost:8080/",
          "height": 300
        },
        "outputId": "dd62daab-9483-403d-d71c-998e645de173"
      },
      "execution_count": null,
      "outputs": [
        {
          "output_type": "execute_result",
          "data": {
            "text/plain": [
              "                  0\n",
              "count  34189.000000\n",
              "mean       0.240574\n",
              "std        0.427439\n",
              "min        0.000000\n",
              "25%        0.000000\n",
              "50%        0.000000\n",
              "75%        0.000000\n",
              "max        1.000000"
            ],
            "text/html": [
              "\n",
              "  <div id=\"df-47ab2695-33fc-43c0-a993-907634cc4a39\">\n",
              "    <div class=\"colab-df-container\">\n",
              "      <div>\n",
              "<style scoped>\n",
              "    .dataframe tbody tr th:only-of-type {\n",
              "        vertical-align: middle;\n",
              "    }\n",
              "\n",
              "    .dataframe tbody tr th {\n",
              "        vertical-align: top;\n",
              "    }\n",
              "\n",
              "    .dataframe thead th {\n",
              "        text-align: right;\n",
              "    }\n",
              "</style>\n",
              "<table border=\"1\" class=\"dataframe\">\n",
              "  <thead>\n",
              "    <tr style=\"text-align: right;\">\n",
              "      <th></th>\n",
              "      <th>0</th>\n",
              "    </tr>\n",
              "  </thead>\n",
              "  <tbody>\n",
              "    <tr>\n",
              "      <th>count</th>\n",
              "      <td>34189.000000</td>\n",
              "    </tr>\n",
              "    <tr>\n",
              "      <th>mean</th>\n",
              "      <td>0.240574</td>\n",
              "    </tr>\n",
              "    <tr>\n",
              "      <th>std</th>\n",
              "      <td>0.427439</td>\n",
              "    </tr>\n",
              "    <tr>\n",
              "      <th>min</th>\n",
              "      <td>0.000000</td>\n",
              "    </tr>\n",
              "    <tr>\n",
              "      <th>25%</th>\n",
              "      <td>0.000000</td>\n",
              "    </tr>\n",
              "    <tr>\n",
              "      <th>50%</th>\n",
              "      <td>0.000000</td>\n",
              "    </tr>\n",
              "    <tr>\n",
              "      <th>75%</th>\n",
              "      <td>0.000000</td>\n",
              "    </tr>\n",
              "    <tr>\n",
              "      <th>max</th>\n",
              "      <td>1.000000</td>\n",
              "    </tr>\n",
              "  </tbody>\n",
              "</table>\n",
              "</div>\n",
              "      <button class=\"colab-df-convert\" onclick=\"convertToInteractive('df-47ab2695-33fc-43c0-a993-907634cc4a39')\"\n",
              "              title=\"Convert this dataframe to an interactive table.\"\n",
              "              style=\"display:none;\">\n",
              "        \n",
              "  <svg xmlns=\"http://www.w3.org/2000/svg\" height=\"24px\"viewBox=\"0 0 24 24\"\n",
              "       width=\"24px\">\n",
              "    <path d=\"M0 0h24v24H0V0z\" fill=\"none\"/>\n",
              "    <path d=\"M18.56 5.44l.94 2.06.94-2.06 2.06-.94-2.06-.94-.94-2.06-.94 2.06-2.06.94zm-11 1L8.5 8.5l.94-2.06 2.06-.94-2.06-.94L8.5 2.5l-.94 2.06-2.06.94zm10 10l.94 2.06.94-2.06 2.06-.94-2.06-.94-.94-2.06-.94 2.06-2.06.94z\"/><path d=\"M17.41 7.96l-1.37-1.37c-.4-.4-.92-.59-1.43-.59-.52 0-1.04.2-1.43.59L10.3 9.45l-7.72 7.72c-.78.78-.78 2.05 0 2.83L4 21.41c.39.39.9.59 1.41.59.51 0 1.02-.2 1.41-.59l7.78-7.78 2.81-2.81c.8-.78.8-2.07 0-2.86zM5.41 20L4 18.59l7.72-7.72 1.47 1.35L5.41 20z\"/>\n",
              "  </svg>\n",
              "      </button>\n",
              "      \n",
              "  <style>\n",
              "    .colab-df-container {\n",
              "      display:flex;\n",
              "      flex-wrap:wrap;\n",
              "      gap: 12px;\n",
              "    }\n",
              "\n",
              "    .colab-df-convert {\n",
              "      background-color: #E8F0FE;\n",
              "      border: none;\n",
              "      border-radius: 50%;\n",
              "      cursor: pointer;\n",
              "      display: none;\n",
              "      fill: #1967D2;\n",
              "      height: 32px;\n",
              "      padding: 0 0 0 0;\n",
              "      width: 32px;\n",
              "    }\n",
              "\n",
              "    .colab-df-convert:hover {\n",
              "      background-color: #E2EBFA;\n",
              "      box-shadow: 0px 1px 2px rgba(60, 64, 67, 0.3), 0px 1px 3px 1px rgba(60, 64, 67, 0.15);\n",
              "      fill: #174EA6;\n",
              "    }\n",
              "\n",
              "    [theme=dark] .colab-df-convert {\n",
              "      background-color: #3B4455;\n",
              "      fill: #D2E3FC;\n",
              "    }\n",
              "\n",
              "    [theme=dark] .colab-df-convert:hover {\n",
              "      background-color: #434B5C;\n",
              "      box-shadow: 0px 1px 3px 1px rgba(0, 0, 0, 0.15);\n",
              "      filter: drop-shadow(0px 1px 2px rgba(0, 0, 0, 0.3));\n",
              "      fill: #FFFFFF;\n",
              "    }\n",
              "  </style>\n",
              "\n",
              "      <script>\n",
              "        const buttonEl =\n",
              "          document.querySelector('#df-47ab2695-33fc-43c0-a993-907634cc4a39 button.colab-df-convert');\n",
              "        buttonEl.style.display =\n",
              "          google.colab.kernel.accessAllowed ? 'block' : 'none';\n",
              "\n",
              "        async function convertToInteractive(key) {\n",
              "          const element = document.querySelector('#df-47ab2695-33fc-43c0-a993-907634cc4a39');\n",
              "          const dataTable =\n",
              "            await google.colab.kernel.invokeFunction('convertToInteractive',\n",
              "                                                     [key], {});\n",
              "          if (!dataTable) return;\n",
              "\n",
              "          const docLinkHtml = 'Like what you see? Visit the ' +\n",
              "            '<a target=\"_blank\" href=https://colab.research.google.com/notebooks/data_table.ipynb>data table notebook</a>'\n",
              "            + ' to learn more about interactive tables.';\n",
              "          element.innerHTML = '';\n",
              "          dataTable['output_type'] = 'display_data';\n",
              "          await google.colab.output.renderOutput(dataTable, element);\n",
              "          const docLink = document.createElement('div');\n",
              "          docLink.innerHTML = docLinkHtml;\n",
              "          element.appendChild(docLink);\n",
              "        }\n",
              "      </script>\n",
              "    </div>\n",
              "  </div>\n",
              "  "
            ]
          },
          "metadata": {},
          "execution_count": 47
        }
      ]
    },
    {
      "cell_type": "markdown",
      "source": [
        "### **Adult Dataset**"
      ],
      "metadata": {
        "id": "uK3Teuzm8l6_"
      }
    },
    {
      "cell_type": "markdown",
      "source": [
        "**Implement the algorithm**"
      ],
      "metadata": {
        "id": "HpGgoyQK7_0X"
      }
    },
    {
      "cell_type": "markdown",
      "source": [
        "**Logistic Regression**"
      ],
      "metadata": {
        "id": "6a3lVE-o9-XH"
      }
    },
    {
      "cell_type": "code",
      "source": [
        "classifier = LogisticRegression()\n",
        "print(classifier)"
      ],
      "metadata": {
        "colab": {
          "base_uri": "https://localhost:8080/"
        },
        "id": "hJm2pVppxRXf",
        "outputId": "3d1754f0-68d9-4792-f49a-bbf817696a22",
        "cellView": "code"
      },
      "execution_count": null,
      "outputs": [
        {
          "output_type": "stream",
          "name": "stdout",
          "text": [
            "LogisticRegression()\n"
          ]
        }
      ]
    },
    {
      "cell_type": "markdown",
      "source": [
        "**Implement cross validation**"
      ],
      "metadata": {
        "id": "Tss7HSng8EsI"
      }
    },
    {
      "cell_type": "code",
      "source": [
        "accuracies = cross_val_score(cv=5, estimator=classifier, X=X_train, y=y_train)\n",
        "print('Accuracies:', accuracies)\n",
        "print('Average:', accuracies.mean())\n",
        "print('Std Deviation:', accuracies.std())"
      ],
      "metadata": {
        "colab": {
          "base_uri": "https://localhost:8080/"
        },
        "id": "0esVNBQbxXeV",
        "outputId": "de5484c9-9d3e-4b47-bdc4-18c008c2b195"
      },
      "execution_count": null,
      "outputs": [
        {
          "output_type": "stream",
          "name": "stdout",
          "text": [
            "Accuracies: [0.79833285 0.80242761 0.80783855 0.80535244 0.8067866 ]\n",
            "Average: 0.8041476100205415\n",
            "Std Deviation: 0.0034295426661269768\n"
          ]
        }
      ]
    },
    {
      "cell_type": "markdown",
      "source": [
        "**Grid search for parameter selection**"
      ],
      "metadata": {
        "id": "vS6SplgV8JDH"
      }
    },
    {
      "cell_type": "code",
      "source": [
        "solvers = ['newton-cg']\n",
        "penalty = ['l2']\n",
        "c_values = [100, 10, 1.0, 0.1, 1e-2, 1e-3, 1e-4, 1e-5]\n",
        "# define grid search\n",
        "grid = dict(solver=solvers,penalty=penalty,C=c_values)\n",
        "\n",
        "grid_search = GridSearchCV(\n",
        "    estimator=classifier,\n",
        "    param_grid=grid,\n",
        "    cv=5, # number of folds\n",
        "    n_jobs=-1 # all available computing power\n",
        ")\n",
        "\n",
        "grid_search.fit(X_train, y_train)"
      ],
      "metadata": {
        "colab": {
          "base_uri": "https://localhost:8080/"
        },
        "id": "03ccCv_1xbWT",
        "outputId": "f50940a3-ba69-478f-d783-fbe539ec11db"
      },
      "execution_count": null,
      "outputs": [
        {
          "output_type": "execute_result",
          "data": {
            "text/plain": [
              "GridSearchCV(cv=5, estimator=LogisticRegression(), n_jobs=-1,\n",
              "             param_grid={'C': [100, 10, 1.0, 0.1, 0.01, 0.001, 0.0001, 1e-05],\n",
              "                         'penalty': ['l2'], 'solver': ['newton-cg']})"
            ]
          },
          "metadata": {},
          "execution_count": 12
        }
      ]
    },
    {
      "cell_type": "code",
      "source": [
        "best_parameters = grid_search.best_params_\n",
        "print('Best parameters:', best_parameters)\n",
        "\n",
        "best_result = grid_search.best_score_\n",
        "print('Best accuracy:', best_result)"
      ],
      "metadata": {
        "colab": {
          "base_uri": "https://localhost:8080/"
        },
        "id": "iL8FJKpMy8rV",
        "outputId": "569a25c3-c981-47c8-91f5-990e45446482"
      },
      "execution_count": null,
      "outputs": [
        {
          "output_type": "stream",
          "name": "stdout",
          "text": [
            "Best parameters: {'C': 100, 'penalty': 'l2', 'solver': 'newton-cg'}\n",
            "Best accuracy: 0.8041476100205415\n"
          ]
        }
      ]
    },
    {
      "cell_type": "markdown",
      "source": [
        "**Create best model**"
      ],
      "metadata": {
        "id": "szyBlVkI8QO-"
      }
    },
    {
      "cell_type": "code",
      "source": [
        "lr_best_model = LogisticRegression(C=100, penalty='l2', solver='newton-cg')\n",
        "lr_best_model = lr_best_model.fit(X_train,y_train)\n",
        "\n",
        "best_model_cv = cross_val_score(cv=5, estimator=grid_search, X=X_train, y=y_train)\n",
        "print('Accuracies:', best_model_cv)\n",
        "print('Average:', best_model_cv.mean())\n",
        "print('Std Deviation:', best_model_cv.std())"
      ],
      "metadata": {
        "id": "LYVRubbUzLNV",
        "colab": {
          "base_uri": "https://localhost:8080/"
        },
        "outputId": "0690facb-5362-4054-9b32-728ce0dbc51c"
      },
      "execution_count": null,
      "outputs": [
        {
          "output_type": "stream",
          "name": "stdout",
          "text": [
            "Accuracies: [0.79833285 0.80242761 0.80783855 0.80462123 0.8067866 ]\n",
            "Average: 0.8040013684294329\n",
            "Std Deviation: 0.003390415336012397\n"
          ]
        }
      ]
    },
    {
      "cell_type": "code",
      "source": [
        "y_pred_best_model = cross_val_predict(cv=5, estimator=grid_search, X=X_test, y=y_test)\n",
        "test_pred_best = test.copy()\n",
        "test_pred_best.labels = y_pred_best_model\n",
        "\n",
        "metric = ClassificationMetric(test, test_pred_best, unprivileged_groups=unprivileged_groups, privileged_groups=privileged_groups)\n",
        "metric_arrs={}\n",
        "metric_arrs['eq_opp_diff']=(metric.equal_opportunity_difference())\n",
        "metric_arrs['disp_imp']=(metric.disparate_impact())\n",
        "print(metric_arrs)"
      ],
      "metadata": {
        "colab": {
          "base_uri": "https://localhost:8080/"
        },
        "id": "uAtb8tKutCok",
        "outputId": "459cfcd5-51b6-46bb-c7fd-b1663d31e64c"
      },
      "execution_count": null,
      "outputs": [
        {
          "output_type": "stream",
          "name": "stdout",
          "text": [
            "{'eq_opp_diff': -0.434006734006734, 'disp_imp': 0.0}\n"
          ]
        }
      ]
    },
    {
      "cell_type": "code",
      "source": [
        "from sklearn.metrics import confusion_matrix, plot_confusion_matrix, ConfusionMatrixDisplay\n",
        "\n",
        "plot_confusion_matrix(lr_best_model, X_train, y_train)"
      ],
      "metadata": {
        "id": "nu8H3JHI2H-2",
        "colab": {
          "base_uri": "https://localhost:8080/",
          "height": 316
        },
        "outputId": "6951e799-96b2-4126-944d-ee7019a5dbe2"
      },
      "execution_count": null,
      "outputs": [
        {
          "output_type": "stream",
          "name": "stderr",
          "text": [
            "Function plot_confusion_matrix is deprecated; Function `plot_confusion_matrix` is deprecated in 1.0 and will be removed in 1.2. Use one of the class methods: ConfusionMatrixDisplay.from_predictions or ConfusionMatrixDisplay.from_estimator.\n"
          ]
        },
        {
          "output_type": "execute_result",
          "data": {
            "text/plain": [
              "<sklearn.metrics._plot.confusion_matrix.ConfusionMatrixDisplay at 0x7f463c6c0650>"
            ]
          },
          "metadata": {},
          "execution_count": 30
        },
        {
          "output_type": "display_data",
          "data": {
            "text/plain": [
              "<Figure size 432x288 with 2 Axes>"
            ],
            "image/png": "[encoded data removed]"
          },
          "metadata": {
            "needs_background": "light"
          }
        }
      ]
    },
    {
      "cell_type": "code",
      "source": [
        "cm = confusion_matrix(test.labels, y_pred_best_model)\n",
        "cmd = ConfusionMatrixDisplay(cm)\n",
        "cmd.plot()\n",
        "cmd.ax_.set(xlabel='Predicted', ylabel='True')"
      ],
      "metadata": {
        "colab": {
          "base_uri": "https://localhost:8080/",
          "height": 297
        },
        "id": "21LANKoP3uVA",
        "outputId": "cc31b6b8-ac8b-47cc-de92-6f330aaeb0a9"
      },
      "execution_count": null,
      "outputs": [
        {
          "output_type": "execute_result",
          "data": {
            "text/plain": [
              "[Text(0, 0.5, 'True'), Text(0.5, 0, 'Predicted')]"
            ]
          },
          "metadata": {},
          "execution_count": 20
        },
        {
          "output_type": "display_data",
          "data": {
            "text/plain": [
              "<Figure size 432x288 with 2 Axes>"
            ],
            "image/png": "[encoded data removed]"
          },
          "metadata": {
            "needs_background": "light"
          }
        }
      ]
    },
    {
      "cell_type": "code",
      "source": [
        "lr_best_model2 = LogisticRegression(C=1e-4, penalty='l2', solver='newton-cg')\n",
        "lr_best_model2 = lr_best_model2.fit(X_train,y_train)"
      ],
      "metadata": {
        "id": "oNChCUbZ4AnS"
      },
      "execution_count": null,
      "outputs": []
    },
    {
      "cell_type": "code",
      "source": [
        "accuracies2 = cross_val_score(cv=5, estimator=lr_best_model2, X=X_train, y=y_train)\n",
        "print('Accuracies:', accuracies2)\n",
        "print('Average:', accuracies2.mean())\n",
        "print('Std Deviation:', accuracies2.std())"
      ],
      "metadata": {
        "colab": {
          "base_uri": "https://localhost:8080/"
        },
        "id": "IXg2NSRY5F4I",
        "outputId": "f48727f5-0093-4139-b3c6-5f8d3d1a5fb5"
      },
      "execution_count": null,
      "outputs": [
        {
          "output_type": "stream",
          "name": "stdout",
          "text": [
            "Accuracies: [0.75943258 0.75943258 0.75943258 0.75943258 0.7593974 ]\n",
            "Average: 0.7594255454049874\n",
            "Std Deviation: 1.4074443023170957e-05\n"
          ]
        }
      ]
    },
    {
      "cell_type": "code",
      "source": [
        "y_pred_best_model2 = cross_val_predict(cv=5, estimator=lr_best_model2, X=X_test, y=y_test)\n",
        "test_pred_best2 = test.copy()\n",
        "test_pred_best2.labels = y_pred_best_model2\n",
        "\n",
        "metric = ClassificationMetric(test, test_pred_best2, unprivileged_groups=unprivileged_groups, privileged_groups=privileged_groups)\n",
        "metric_arrs = {}\n",
        "metric_arrs['eq_opp_diff']=(metric.equal_opportunity_difference())\n",
        "metric_arrs['disp_imp']=(metric.disparate_impact())\n",
        "print(metric_arrs)\n"
      ],
      "metadata": {
        "colab": {
          "base_uri": "https://localhost:8080/"
        },
        "id": "M8mO-6dU9eWK",
        "outputId": "ac8c6648-38a5-45c0-d24e-11dcc19a32f9"
      },
      "execution_count": null,
      "outputs": [
        {
          "output_type": "stream",
          "name": "stdout",
          "text": [
            "{'eq_opp_diff': 0.0, 'disp_imp': nan}\n"
          ]
        },
        {
          "output_type": "stream",
          "name": "stderr",
          "text": [
            "invalid value encountered in double_scalars\n"
          ]
        }
      ]
    },
    {
      "cell_type": "code",
      "source": [
        "kf =KFold(n_splits=5, shuffle=True)\n",
        "\n",
        "cnt = 1\n",
        "# split()  method generate indices to split data into training and test set.\n",
        "for train_index, test_index in kf.split(X_train, y_train):\n",
        "    print(f'Fold:{cnt}, Train set: {len(train_index)}, {train_index}, Test set:{len(test_index)}, {test_index}')\n",
        "    cnt += 1"
      ],
      "metadata": {
        "colab": {
          "base_uri": "https://localhost:8080/"
        },
        "id": "H1FYIciZV9EB",
        "outputId": "93d01134-7623-4cb6-9104-0a146fd71409"
      },
      "execution_count": null,
      "outputs": [
        {
          "output_type": "stream",
          "name": "stdout",
          "text": [
            "Fold:1, Train set: 27351, [    0     1     2 ... 34186 34187 34188], Test set:6838, [   13    18    19 ... 34176 34177 34178]\n",
            "Fold:2, Train set: 27351, [    0     1     3 ... 34186 34187 34188], Test set:6838, [    2     5     6 ... 34162 34179 34183]\n",
            "Fold:3, Train set: 27351, [    0     1     2 ... 34184 34185 34187], Test set:6838, [    3     4    10 ... 34173 34186 34188]\n",
            "Fold:4, Train set: 27351, [    0     2     3 ... 34185 34186 34188], Test set:6838, [    1     8    11 ... 34181 34184 34187]\n",
            "Fold:5, Train set: 27352, [    1     2     3 ... 34186 34187 34188], Test set:6837, [    0     9    12 ... 34180 34182 34185]\n"
          ]
        }
      ]
    },
    {
      "cell_type": "code",
      "source": [
        "c_values = [100, 10, 1.0, 0.1, 1e-2, 1e-3, 1e-4, 1e-5]\n",
        "for algo in c_values:\n",
        "    score = cross_val_score(linear_model.LogisticRegression(C=algo), X_train, y_train, cv= 5, scoring=\"accuracy\")\n",
        "    print(f'Average score({algo}): {\"{:}\".format(score.mean())}')"
      ],
      "metadata": {
        "id": "7AbKGKxpYbi3",
        "colab": {
          "base_uri": "https://localhost:8080/"
        },
        "outputId": "08402123-f6e0-4326-d02b-47c5736b4a69"
      },
      "execution_count": null,
      "outputs": [
        {
          "output_type": "stream",
          "name": "stdout",
          "text": [
            "Average score(100): 0.8041476100205415\n",
            "Average score(10): 0.8041476100205415\n",
            "Average score(1.0): 0.8041476100205415\n",
            "Average score(0.1): 0.8041476100205415\n",
            "Average score(0.01): 0.8039136234747678\n",
            "Average score(0.001): 0.80347489014555\n",
            "Average score(0.0001): 0.7594255454049874\n",
            "Average score(1e-05): 0.7594255454049874\n"
          ]
        }
      ]
    },
    {
      "cell_type": "code",
      "source": [
        "y_pred_best_model2 = cross_val_predict(cv=kf, estimator=lr_best_model2, X=X_test, y=y_test)\n",
        "test_pred_best2 = test.copy()\n",
        "test_pred_best2.labels = y_pred_best_model2\n",
        "\n",
        "metric = ClassificationMetric(test, test_pred_best2, unprivileged_groups=unprivileged_groups, privileged_groups=privileged_groups)\n",
        "metric_arrs = {}\n",
        "metric_arrs['eq_opp_diff']=(metric.equal_opportunity_difference())\n",
        "print(metric_arrs)"
      ],
      "metadata": {
        "colab": {
          "base_uri": "https://localhost:8080/"
        },
        "id": "OxULRabWV9Kx",
        "outputId": "0b3c06bc-5fd7-4c4c-d1bf-04918faaa9bf"
      },
      "execution_count": null,
      "outputs": [
        {
          "output_type": "stream",
          "name": "stdout",
          "text": [
            "{'eq_opp_diff': 0.0}\n"
          ]
        }
      ]
    },
    {
      "cell_type": "code",
      "source": [
        "y_test_pred_LR=lr_best_model2.predict(X_test)"
      ],
      "metadata": {
        "id": "RTjmPFDprXJQ"
      },
      "execution_count": null,
      "outputs": []
    },
    {
      "cell_type": "code",
      "source": [
        "from sklearn.metrics import precision_score, recall_score, confusion_matrix, classification_report,accuracy_score, f1_score\n",
        "import seaborn as sns\n",
        "cf=confusion_matrix(y_test, y_test_pred_LR)\n",
        "TP=cf[1][1]\n",
        "TN=cf[0][0]\n",
        "FN=cf[1][0]\n",
        "FP=cf[0][1]\n",
        "print('Accuracy on test:', accuracy_score(y_test,y_test_pred_LR),\"\\n\")\n",
        "print('F1 score on test:', f1_score(y_test,y_test_pred_LR),\"\\n\")\n",
        "precision=(TP/(TP+FP))\n",
        "print(\"Precision :\" , precision,\"\\n\")\n",
        "specificity=TN/(TN+FP)\n",
        "print(\"Specificity :\" , specificity,\"\\n\")\n",
        "recall=TP/(TP+FN)\n",
        "print(\"Recall :\" , recall,\"\\n\")"
      ],
      "metadata": {
        "colab": {
          "base_uri": "https://localhost:8080/"
        },
        "id": "NNxsAYtOuGLW",
        "outputId": "48091672-19a1-4c95-af78-2c96fc8524b2"
      },
      "execution_count": null,
      "outputs": [
        {
          "output_type": "stream",
          "name": "stdout",
          "text": [
            "Accuracy on test: 0.763734388862349 \n",
            "\n",
            "F1 score on test: 0.0 \n",
            "\n",
            "Precision : nan \n",
            "\n",
            "Specificity : 1.0 \n",
            "\n",
            "Recall : 0.0 \n",
            "\n"
          ]
        },
        {
          "output_type": "stream",
          "name": "stderr",
          "text": [
            "invalid value encountered in long_scalars\n"
          ]
        }
      ]
    },
    {
      "cell_type": "markdown",
      "source": [
        "**Support Vector Machine**"
      ],
      "metadata": {
        "id": "DBhN1JUz94Qn"
      }
    },
    {
      "cell_type": "code",
      "source": [
        "svm = SVC()\n",
        "svm.fit(X_train, y_train)"
      ],
      "metadata": {
        "colab": {
          "base_uri": "https://localhost:8080/"
        },
        "id": "oQy30kv3976K",
        "outputId": "ecd4941d-c106-4b63-e976-f0cf286c9ee2"
      },
      "execution_count": null,
      "outputs": [
        {
          "output_type": "execute_result",
          "data": {
            "text/plain": [
              "SVC()"
            ]
          },
          "metadata": {},
          "execution_count": 30
        }
      ]
    },
    {
      "cell_type": "code",
      "source": [
        "accuracies = cross_val_score(cv=5, estimator=svm, X=X_train, y=y_train)\n",
        "print('Accuracies:', accuracies)\n",
        "print('Average:', accuracies.mean())\n",
        "print('Std Deviation:', accuracies.std())"
      ],
      "metadata": {
        "colab": {
          "base_uri": "https://localhost:8080/"
        },
        "id": "q55UJVi0P-ho",
        "outputId": "dc2f2b32-2961-4760-fd95-e7de05c227b5"
      },
      "execution_count": null,
      "outputs": [
        {
          "output_type": "stream",
          "name": "stdout",
          "text": [
            "Accuracies: [0.79964902 0.80155016 0.80754607 0.80374378 0.80649408]\n",
            "Average: 0.8037966216459885\n",
            "Std Deviation: 0.0029525098233585696\n"
          ]
        }
      ]
    },
    {
      "cell_type": "markdown",
      "source": [
        "**Create best model**"
      ],
      "metadata": {
        "id": "81TqP0-mRlJj"
      }
    },
    {
      "cell_type": "code",
      "source": [
        "y_pred_svm = cross_val_predict(cv=5, estimator=svm, X=X_test, y=y_test)\n",
        "test_pred_svm = test.copy()\n",
        "test_pred_svm.labels = y_pred_svm\n",
        "\n",
        "metric = ClassificationMetric(test, test_pred_svm, unprivileged_groups=unprivileged_groups, privileged_groups=privileged_groups)\n",
        "metric_arrs={}\n",
        "metric_arrs['eq_opp_diff']=(metric.equal_opportunity_difference())\n",
        "print(metric_arrs)"
      ],
      "metadata": {
        "colab": {
          "base_uri": "https://localhost:8080/"
        },
        "id": "j4dh0hU0_Vmc",
        "outputId": "893ec86b-3659-4e31-966e-d039a42bcf05"
      },
      "execution_count": null,
      "outputs": [
        {
          "output_type": "stream",
          "name": "stdout",
          "text": [
            "{'eq_opp_diff': -0.46565656565656566}\n"
          ]
        }
      ]
    },
    {
      "cell_type": "code",
      "source": [
        "parameters = [{'C': [1], 'kernel': ['linear']}]\n",
        "grid_search_svc = GridSearchCV(estimator = svm,\n",
        "                           param_grid = parameters,\n",
        "                           scoring = 'accuracy',\n",
        "                           cv = 5,\n",
        "                           n_jobs = -1)\n",
        "grid_search_svc.fit(X_train, y_train)"
      ],
      "metadata": {
        "colab": {
          "base_uri": "https://localhost:8080/"
        },
        "id": "I002ZQw1enBF",
        "outputId": "09d93046-43f5-452a-ab9f-dd699856dedb"
      },
      "execution_count": null,
      "outputs": [
        {
          "output_type": "execute_result",
          "data": {
            "text/plain": [
              "GridSearchCV(cv=5, estimator=SVC(), n_jobs=-1,\n",
              "             param_grid=[{'C': [1], 'kernel': ['linear']}], scoring='accuracy')"
            ]
          },
          "metadata": {},
          "execution_count": 28
        }
      ]
    },
    {
      "cell_type": "code",
      "source": [
        "#svcc = SVC(C=10, kernel='linear')\n",
        "#svcc.fit(X_train, y_train)\n",
        "accuracies_svc = cross_val_score(cv=5, estimator=grid_search_svc, X=X_train, y=y_train)\n",
        "print('Accuracies:', accuracies_svc)\n",
        "print('Average:', accuracies_svc.mean())\n",
        "print('Std Deviation:', accuracies_svc.std())"
      ],
      "metadata": {
        "colab": {
          "base_uri": "https://localhost:8080/"
        },
        "id": "iaCGK-Ai_k-7",
        "outputId": "90dcc1eb-c1b8-4db1-e77c-6073109a5022"
      },
      "execution_count": null,
      "outputs": [
        {
          "output_type": "stream",
          "name": "stdout",
          "text": [
            "Accuracies: [0.78224627 0.7834162  0.79189822 0.78356245 0.79025889]\n",
            "Average: 0.7862764041791599\n",
            "Std Deviation: 0.003981286716708653\n"
          ]
        }
      ]
    },
    {
      "cell_type": "code",
      "source": [
        "y_pred_svcc = cross_val_predict(cv=5, estimator=svcc, X=X_test, y=y_test)\n",
        "test_pred_svcc = test.copy()\n",
        "test_pred_svcc.labels = y_pred_svcc\n",
        "\n",
        "metric = ClassificationMetric(test, test_pred_svcc, unprivileged_groups=unprivileged_groups, privileged_groups=privileged_groups)\n",
        "metric_arrs={}\n",
        "metric_arrs['eq_opp_diff']=(metric.equal_opportunity_difference())\n",
        "print(metric_arrs)"
      ],
      "metadata": {
        "id": "wntIYBgIEF7u"
      },
      "execution_count": null,
      "outputs": []
    },
    {
      "cell_type": "markdown",
      "source": [
        "**Reweighing**"
      ],
      "metadata": {
        "id": "JDo_Ixu-DEFZ"
      }
    },
    {
      "cell_type": "markdown",
      "source": [
        "**Logistic Regression**"
      ],
      "metadata": {
        "id": "PEjjyChAEVmN"
      }
    },
    {
      "cell_type": "code",
      "source": [
        "# Transform the original dataset via reweighing to mitigate the bias\n",
        "RW = Reweighing(unprivileged_groups=unprivileged_groups,\n",
        "                privileged_groups=privileged_groups)\n",
        "RW.fit(train)\n",
        "train_weight = RW.transform(train)\n",
        "\n",
        "print(\"subgroup weights\", np.unique(train_weight.instance_weights))"
      ],
      "metadata": {
        "colab": {
          "base_uri": "https://localhost:8080/"
        },
        "id": "_Q04SvDvDH0M",
        "outputId": "0d70d91d-7298-4ccf-ef46-a0b22029013c"
      },
      "execution_count": null,
      "outputs": [
        {
          "output_type": "stream",
          "name": "stdout",
          "text": [
            "subgroup weights [0.78875735 0.85514075 1.09270553 2.1493453 ]\n"
          ]
        }
      ]
    },
    {
      "cell_type": "code",
      "source": [
        "lr_reweigh = LogisticRegression(C=0.0001, penalty='l2', solver='newton-cg')\n",
        "lr_reweigh = lr_reweigh.fit(X_train,y_train, sample_weight=train_weight.instance_weights)\n",
        "\n",
        "reweigh_model_cv = cross_val_score(cv=5, estimator=lr_reweigh, X=X_train, y=y_train)\n",
        "print('Accuracies:', reweigh_model_cv)\n",
        "print('Average:', reweigh_model_cv.mean())\n",
        "print('Std Deviation:', reweigh_model_cv.std())"
      ],
      "metadata": {
        "colab": {
          "base_uri": "https://localhost:8080/"
        },
        "id": "1FKVStwZDRB7",
        "outputId": "4bde2d8b-a43b-4152-8e0d-a6ea004a0678"
      },
      "execution_count": null,
      "outputs": [
        {
          "output_type": "stream",
          "name": "stdout",
          "text": [
            "Accuracies: [0.75943258 0.75943258 0.75943258 0.75943258 0.7593974 ]\n",
            "Average: 0.7594255454049874\n",
            "Std Deviation: 1.4074443023170957e-05\n"
          ]
        }
      ]
    },
    {
      "cell_type": "code",
      "source": [
        "y_pred_reweigh = cross_val_predict(cv=5, estimator=lr_reweigh, X=X_test, y=y_test)\n",
        "test_pred_reweigh = test.copy()\n",
        "test_pred_reweigh.labels = y_pred_reweigh\n",
        "\n",
        "metric = ClassificationMetric(test, test_pred_reweigh, unprivileged_groups=unprivileged_groups, privileged_groups=privileged_groups)\n",
        "metric_arrs={}\n",
        "metric_arrs['eq_opp_diff']=(metric.equal_opportunity_difference())\n",
        "print(metric_arrs)"
      ],
      "metadata": {
        "colab": {
          "base_uri": "https://localhost:8080/"
        },
        "id": "B76-BFh-DRJ3",
        "outputId": "bb5f9a97-4d49-4302-c00c-c33beb57bc1f"
      },
      "execution_count": null,
      "outputs": [
        {
          "output_type": "stream",
          "name": "stdout",
          "text": [
            "{'eq_opp_diff': 0.0}\n"
          ]
        }
      ]
    },
    {
      "cell_type": "code",
      "source": [
        ""
      ],
      "metadata": {
        "id": "iyHILfBoDRlI"
      },
      "execution_count": null,
      "outputs": []
    },
    {
      "cell_type": "code",
      "source": [
        ""
      ],
      "metadata": {
        "id": "Qi01CuBeDRpx"
      },
      "execution_count": null,
      "outputs": []
    },
    {
      "cell_type": "code",
      "source": [
        ""
      ],
      "metadata": {
        "id": "4AsAFPMuEalN"
      },
      "execution_count": null,
      "outputs": []
    },
    {
      "cell_type": "markdown",
      "source": [
        "**Support Vector Machine**"
      ],
      "metadata": {
        "id": "ftIw68OgEasJ"
      }
    },
    {
      "cell_type": "code",
      "source": [
        "svc_reweigh = SVC(C=10, kernel='linear')\n",
        "svc_reweigh = svc_reweigh.fit(X_train, y_train, sample_weight=train_weight.instance_weights)\n",
        "\n",
        "reweigh_model_svc = cross_val_score(cv=5, estimator=svc_reweigh, X=X_train, y=y_train)\n",
        "print('Accuracies:', reweigh_model_svc)\n",
        "print('Average:', reweigh_model_svc.mean())\n",
        "print('Std Deviation:', reweigh_model_svc.std())"
      ],
      "metadata": {
        "id": "hfHWwnLpHJor"
      },
      "execution_count": null,
      "outputs": []
    },
    {
      "cell_type": "code",
      "source": [
        "y_pred_svc_reweigh = cross_val_predict(cv=5, estimator=svc_reweigh, X=X_test, y=y_test)\n",
        "test_pred_svc_reweigh = test.copy()\n",
        "test_pred_svc_reweigh.labels = y_pred_svc_reweigh\n",
        "\n",
        "metric = ClassificationMetric(test, test_pred_svc_reweigh, unprivileged_groups=unprivileged_groups, privileged_groups=privileged_groups)\n",
        "metric_arrs['eq_opp_diff']=(metric.equal_opportunity_difference())\n",
        "print(metric_arrs)"
      ],
      "metadata": {
        "colab": {
          "base_uri": "https://localhost:8080/"
        },
        "id": "po4qtX_gHJtl",
        "outputId": "b59d285f-7290-450b-bd2f-4cb7b818cd5d"
      },
      "execution_count": null,
      "outputs": [
        {
          "output_type": "stream",
          "name": "stdout",
          "text": [
            "{'eq_opp_diff': -0.15843393282417673}\n"
          ]
        }
      ]
    },
    {
      "cell_type": "code",
      "source": [
        "svc_reweigh = SVC()\n",
        "svc_reweigh = svc_reweigh.fit(X_train, y_train, sample_weight=train_weight.instance_weights)\n",
        "\n",
        "reweigh_model_svc = cross_val_score(cv=5, estimator=svc_reweigh, X=X_train, y=y_train)\n",
        "print('Accuracies:', reweigh_model_svc)\n",
        "print('Average:', reweigh_model_svc.mean())\n",
        "print('Std Deviation:', reweigh_model_svc.std())"
      ],
      "metadata": {
        "id": "9jSc-n0AFijR",
        "colab": {
          "base_uri": "https://localhost:8080/"
        },
        "outputId": "9bf2eea3-ae0e-486e-d86e-4185c4deb399"
      },
      "execution_count": null,
      "outputs": [
        {
          "output_type": "stream",
          "name": "stdout",
          "text": [
            "Accuracies: [0.79964902 0.80155016 0.80754607 0.80374378 0.80649408]\n",
            "Average: 0.8037966216459885\n",
            "Std Deviation: 0.0029525098233585696\n"
          ]
        }
      ]
    },
    {
      "cell_type": "code",
      "source": [
        "y_pred_svc_reweigh = cross_val_predict(cv=5, estimator=svc_reweigh, X=X_test, y=y_test)\n",
        "test_pred_svc_reweigh = test.copy()\n",
        "test_pred_svc_reweigh.labels = y_pred_svc_reweigh\n",
        "\n",
        "metric = ClassificationMetric(test, test_pred_svc_reweigh, unprivileged_groups=unprivileged_groups, privileged_groups=privileged_groups)\n",
        "metric_arrs = {}\n",
        "metric_arrs['eq_opp_diff']=(metric.equal_opportunity_difference())\n",
        "print(metric_arrs)"
      ],
      "metadata": {
        "id": "mEb8MqejFin3",
        "colab": {
          "base_uri": "https://localhost:8080/"
        },
        "outputId": "45e90fa2-6b32-4019-f6b5-1c97a4efc346"
      },
      "execution_count": null,
      "outputs": [
        {
          "output_type": "stream",
          "name": "stdout",
          "text": [
            "{'eq_opp_diff': -0.46565656565656566}\n"
          ]
        }
      ]
    },
    {
      "cell_type": "code",
      "source": [
        ""
      ],
      "metadata": {
        "id": "N6OxfaSJFirK"
      },
      "execution_count": null,
      "outputs": []
    },
    {
      "cell_type": "markdown",
      "source": [
        "# **German Dataset**"
      ],
      "metadata": {
        "id": "D05gXnMdHrbm"
      }
    },
    {
      "cell_type": "code",
      "source": [
        "cd /usr/local/lib/python3.7/dist-packages/aif360/data/raw/german"
      ],
      "metadata": {
        "id": "HgNaEg8aHuxI"
      },
      "execution_count": null,
      "outputs": []
    },
    {
      "cell_type": "code",
      "source": [
        "!wget https://archive.ics.uci.edu/ml/machine-learning-databases/statlog/german/german.data\n",
        "!wget https://archive.ics.uci.edu/ml/machine-learning-databases/statlog/german/german.data-numeric\n",
        "!wget https://archive.ics.uci.edu/ml/machine-learning-databases/statlog/german/german.doc"
      ],
      "metadata": {
        "id": "3ccHEYqVH5Zm"
      },
      "execution_count": null,
      "outputs": []
    },
    {
      "cell_type": "code",
      "source": [
        "# Define where the bias is in the features in dataset\n",
        "privileged_groups = [{'sex': 1}]\n",
        "unprivileged_groups = [{'sex': 0}]\n",
        "dataset_orig = load_preproc_data_german(['sex'])\n",
        "\n",
        "train, test = dataset_orig.split([0.7], shuffle=True)"
      ],
      "metadata": {
        "id": "yQpzmQplIOkT"
      },
      "execution_count": null,
      "outputs": []
    },
    {
      "cell_type": "code",
      "source": [
        "# Train classifier on original data\n",
        "scale_orig = StandardScaler()\n",
        "X_train = scale_orig.fit_transform(train.features)\n",
        "y_train = train.labels.ravel()\n",
        "\n",
        "X_test = scale_orig.transform(test.features) \n",
        "y_test = test.labels.ravel()\n",
        "\n",
        "lr_mod = LogisticRegression()\n",
        "lr_mod.fit(X_train, y_train)\n",
        "y_predict = lr_mod.predict(X_train)"
      ],
      "metadata": {
        "id": "2wq8iSdQKJpZ"
      },
      "execution_count": null,
      "outputs": []
    },
    {
      "cell_type": "markdown",
      "source": [
        "**Logistic Regression**"
      ],
      "metadata": {
        "id": "CdyIgDkJQjlY"
      }
    },
    {
      "cell_type": "code",
      "source": [
        "lr_mod = LogisticRegression()\n",
        "lr_mod.fit(X_train, y_train)"
      ],
      "metadata": {
        "id": "GWFA2Oh4KJwv"
      },
      "execution_count": null,
      "outputs": []
    },
    {
      "cell_type": "code",
      "source": [
        "grid = {'solver' :  ['newton-cg', 'lbfgs', 'liblinear'],\n",
        "        'C': [1000, 100, 10, 1.0, 0.1, 0.01, 0.001, 0.0001, 0.00001]}\n",
        "grid_search = GridSearchCV(estimator=lr_mod, param_grid=grid, n_jobs=-1, cv=5, scoring='accuracy')\n",
        "grid_result = grid_search.fit(X_train, y_train)\n",
        "print(\"Best: %f using %s\" % (grid_result.best_score_, grid_result.best_params_))"
      ],
      "metadata": {
        "colab": {
          "base_uri": "https://localhost:8080/"
        },
        "id": "-lvE9aCsvT2m",
        "outputId": "da799a64-02fd-4347-acbb-61c633d5846f"
      },
      "execution_count": null,
      "outputs": [
        {
          "output_type": "stream",
          "name": "stdout",
          "text": [
            "Best: 0.700000 using {'C': 1.0, 'solver': 'newton-cg'}\n"
          ]
        }
      ]
    },
    {
      "cell_type": "code",
      "source": [
        "lr_model_ger = LogisticRegression(C=1, penalty='l2', solver='newton-cg')\n",
        "lr_model_ger = lr_model_ger.fit(X_train,y_train)\n",
        "\n",
        "ger_model_cv = cross_val_score(cv=5, estimator=lr_model_ger, X=X_train, y=y_train)\n",
        "print('Accuracies:', ger_model_cv)\n",
        "print('Average:', ger_model_cv.mean())\n",
        "print('Std Deviation:', ger_model_cv.std())"
      ],
      "metadata": {
        "id": "n_WXHvTDKJ3A"
      },
      "execution_count": null,
      "outputs": []
    },
    {
      "cell_type": "code",
      "source": [
        "y_pred_model_ger = cross_val_predict(cv=5, estimator=lr_model_ger, X=X_test, y=y_test)\n",
        "test_pred_ger = test.copy()\n",
        "test_pred_ger.labels = y_pred_model_ger\n",
        "\n",
        "metric = ClassificationMetric(test, test_pred_ger, unprivileged_groups=unprivileged_groups, privileged_groups=privileged_groups)\n",
        "metric_arrs={}\n",
        "metric_arrs['eq_opp_diff']=(metric.equal_opportunity_difference())\n",
        "print(metric_arrs)"
      ],
      "metadata": {
        "id": "iFdX8TyKQ3Cm"
      },
      "execution_count": null,
      "outputs": []
    },
    {
      "cell_type": "code",
      "source": [
        ""
      ],
      "metadata": {
        "id": "8LY1Sj8TRYy3"
      },
      "execution_count": null,
      "outputs": []
    },
    {
      "cell_type": "markdown",
      "source": [
        "**Support Vector Machine**"
      ],
      "metadata": {
        "id": "stJ5h6k9RbmM"
      }
    },
    {
      "cell_type": "code",
      "source": [
        "svc_ger = SVC(C=1, kernel='linear')\n",
        "svc_ger.fit(X_train, y_train)\n",
        "accuracies_svc_ger = cross_val_score(cv=5, estimator=svc_ger, X=X_train, y=y_train)\n",
        "print('Accuracies:', accuracies_svc_ger)\n",
        "print('Average:', accuracies_svc_ger.mean())\n",
        "print('Std Deviation:', accuracies_svc_ger.std())"
      ],
      "metadata": {
        "id": "y-K78-EARd4T"
      },
      "execution_count": null,
      "outputs": []
    },
    {
      "cell_type": "code",
      "source": [
        "y_pred_svc_ger = cross_val_predict(cv=5, estimator=svc_ger, X=X_test, y=y_test)\n",
        "test_pred_svc_ger = test.copy()\n",
        "test_pred_svc_ger.labels = y_pred_svc_ger\n",
        "\n",
        "metric = ClassificationMetric(test, test_pred_svc_ger, unprivileged_groups=unprivileged_groups, privileged_groups=privileged_groups)\n",
        "metric_arrs={}\n",
        "metric_arrs['eq_opp_diff']=(metric.equal_opportunity_difference())\n",
        "print(metric_arrs)"
      ],
      "metadata": {
        "id": "_DqLCXarReSC"
      },
      "execution_count": null,
      "outputs": []
    },
    {
      "cell_type": "code",
      "source": [
        ""
      ],
      "metadata": {
        "id": "67gjcVONReU0"
      },
      "execution_count": null,
      "outputs": []
    },
    {
      "cell_type": "code",
      "source": [
        ""
      ],
      "metadata": {
        "id": "gzP2-bf9ReXK"
      },
      "execution_count": null,
      "outputs": []
    },
    {
      "cell_type": "markdown",
      "source": [
        "**Reweighing**"
      ],
      "metadata": {
        "id": "CZ_5ceFfSYYW"
      }
    },
    {
      "cell_type": "code",
      "source": [
        "RW = Reweighing(unprivileged_groups=unprivileged_groups,\n",
        "                privileged_groups=privileged_groups)\n",
        "RW.fit(train)\n",
        "train_weight = RW.transform(train)\n",
        "\n",
        "print(\"subgroup weights\", np.unique(train_weight.instance_weights))"
      ],
      "metadata": {
        "id": "5sIK6zaBSaJN"
      },
      "execution_count": null,
      "outputs": []
    },
    {
      "cell_type": "code",
      "source": [
        ""
      ],
      "metadata": {
        "id": "9g-0jFVuSl_q"
      },
      "execution_count": null,
      "outputs": []
    },
    {
      "cell_type": "markdown",
      "source": [
        "**Logistic Regression**"
      ],
      "metadata": {
        "id": "xNUDIMGwSmQw"
      }
    },
    {
      "cell_type": "code",
      "source": [
        "lr_reweigh_ger = LogisticRegression(C=1e-3, penalty='l2', solver='newton-cg')\n",
        "lr_reweigh_ger = lr_reweigh_ger.fit(X_train,y_train, sample_weight=train_weight.instance_weights)\n",
        "\n",
        "reweigh_model_cv_ger = cross_val_score(cv=5, estimator=lr_reweigh_ger, X=X_train, y=y_train)\n",
        "print('Accuracies:', reweigh_model_cv_ger)\n",
        "print('Average:', reweigh_model_cv_ger.mean())\n",
        "print('Std Deviation:', reweigh_model_cv_ger.std())"
      ],
      "metadata": {
        "id": "e6I9vtTZScuJ"
      },
      "execution_count": null,
      "outputs": []
    },
    {
      "cell_type": "code",
      "source": [
        "y_pred_reweigh_ger = cross_val_predict(cv=5, estimator=lr_reweigh_ger, X=X_test, y=y_test)\n",
        "test_pred_reweigh_ger = test.copy()\n",
        "test_pred_reweigh_ger.labels = y_pred_reweigh_ger\n",
        "\n",
        "metric = ClassificationMetric(test, test_pred_reweigh_ger, unprivileged_groups=unprivileged_groups, privileged_groups=privileged_groups)\n",
        "metric_arrs={}\n",
        "metric_arrs['eq_opp_diff']=(metric.equal_opportunity_difference())\n",
        "print(metric_arrs)"
      ],
      "metadata": {
        "id": "nY6sm_VlSpic"
      },
      "execution_count": null,
      "outputs": []
    },
    {
      "cell_type": "code",
      "source": [
        ""
      ],
      "metadata": {
        "id": "h-AAcXlaSpk8"
      },
      "execution_count": null,
      "outputs": []
    },
    {
      "cell_type": "markdown",
      "source": [
        "**Support Vector Machine**"
      ],
      "metadata": {
        "id": "TaxqXtiDS8mp"
      }
    },
    {
      "cell_type": "code",
      "source": [
        "svc_reweigh_ger = SVC(C=1, kernel='linear')\n",
        "svc_reweigh_ger = svc_reweigh_ger.fit(X_train, y_train, sample_weight=train_weight.instance_weights)\n",
        "\n",
        "reweigh_model_svc_ger = cross_val_score(cv=5, estimator=svc_reweigh_ger, X=X_train, y=y_train)\n",
        "print('Accuracies:', reweigh_model_svc_ger)\n",
        "print('Average:', reweigh_model_svc_ger.mean())\n",
        "print('Std Deviation:', reweigh_model_svc_ger.std())"
      ],
      "metadata": {
        "id": "StmStRoAS_Mt"
      },
      "execution_count": null,
      "outputs": []
    },
    {
      "cell_type": "code",
      "source": [
        "y_pred_svc_reweigh_ger = cross_val_predict(cv=5, estimator=svc_reweigh_ger, X=X_test, y=y_test)\n",
        "test_pred_svc_reweigh_ger = test.copy()\n",
        "test_pred_svc_reweigh_ger.labels = y_pred_svc_reweigh_ger\n",
        "\n",
        "metric = ClassificationMetric(test, test_pred_svc_reweigh_ger, unprivileged_groups=unprivileged_groups, privileged_groups=privileged_groups)\n",
        "metric_arrs['eq_opp_diff']=(metric.equal_opportunity_difference())\n",
        "print(metric_arrs)"
      ],
      "metadata": {
        "id": "Y421Yk1oTMkj"
      },
      "execution_count": null,
      "outputs": []
    }
  ]
}